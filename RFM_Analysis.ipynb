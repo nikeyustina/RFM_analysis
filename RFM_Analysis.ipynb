{
  "cells": [
    {
      "cell_type": "code",
      "execution_count": null,
      "metadata": {
        "id": "XqaGWvLe-_Z2",
        "colab": {
          "base_uri": "https://localhost:8080/"
        },
        "outputId": "fe20f644-ca9c-44a6-e00e-4105fb84ece9"
      },
      "outputs": [
        {
          "output_type": "stream",
          "name": "stdout",
          "text": [
            "Looking in indexes: https://pypi.org/simple, https://us-python.pkg.dev/colab-wheels/public/simple/\n",
            "Collecting sqlalchemy==1.4.46\n",
            "  Downloading SQLAlchemy-1.4.46-cp310-cp310-manylinux_2_5_x86_64.manylinux1_x86_64.manylinux_2_17_x86_64.manylinux2014_x86_64.whl (1.6 MB)\n",
            "\u001b[2K     \u001b[90m━━━━━━━━━━━━━━━━━━━━━━━━━━━━━━━━━━━━━━━━\u001b[0m \u001b[32m1.6/1.6 MB\u001b[0m \u001b[31m28.4 MB/s\u001b[0m eta \u001b[36m0:00:00\u001b[0m\n",
            "\u001b[?25hRequirement already satisfied: greenlet!=0.4.17 in /usr/local/lib/python3.10/dist-packages (from sqlalchemy==1.4.46) (2.0.2)\n",
            "Installing collected packages: sqlalchemy\n",
            "  Attempting uninstall: sqlalchemy\n",
            "    Found existing installation: SQLAlchemy 2.0.10\n",
            "    Uninstalling SQLAlchemy-2.0.10:\n",
            "      Successfully uninstalled SQLAlchemy-2.0.10\n",
            "Successfully installed sqlalchemy-1.4.46\n"
          ]
        }
      ],
      "source": [
        "!pip install sqlalchemy==1.4.46"
      ]
    },
    {
      "cell_type": "code",
      "execution_count": null,
      "metadata": {
        "colab": {
          "base_uri": "https://localhost:8080/"
        },
        "id": "vtLQnSMR-rba",
        "outputId": "cdf2616d-3677-4ca1-e294-5e8031092939"
      },
      "outputs": [
        {
          "output_type": "stream",
          "name": "stdout",
          "text": [
            "Looking in indexes: https://pypi.org/simple, https://us-python.pkg.dev/colab-wheels/public/simple/\n",
            "Collecting pandasql\n",
            "  Downloading pandasql-0.7.3.tar.gz (26 kB)\n",
            "  Preparing metadata (setup.py) ... \u001b[?25l\u001b[?25hdone\n",
            "Requirement already satisfied: numpy in /usr/local/lib/python3.10/dist-packages (from pandasql) (1.22.4)\n",
            "Requirement already satisfied: pandas in /usr/local/lib/python3.10/dist-packages (from pandasql) (1.5.3)\n",
            "Requirement already satisfied: sqlalchemy in /usr/local/lib/python3.10/dist-packages (from pandasql) (1.4.46)\n",
            "Requirement already satisfied: python-dateutil>=2.8.1 in /usr/local/lib/python3.10/dist-packages (from pandas->pandasql) (2.8.2)\n",
            "Requirement already satisfied: pytz>=2020.1 in /usr/local/lib/python3.10/dist-packages (from pandas->pandasql) (2022.7.1)\n",
            "Requirement already satisfied: greenlet!=0.4.17 in /usr/local/lib/python3.10/dist-packages (from sqlalchemy->pandasql) (2.0.2)\n",
            "Requirement already satisfied: six>=1.5 in /usr/local/lib/python3.10/dist-packages (from python-dateutil>=2.8.1->pandas->pandasql) (1.16.0)\n",
            "Building wheels for collected packages: pandasql\n",
            "  Building wheel for pandasql (setup.py) ... \u001b[?25l\u001b[?25hdone\n",
            "  Created wheel for pandasql: filename=pandasql-0.7.3-py3-none-any.whl size=26771 sha256=91d680cb3e181ad2464f807cbcdc75fcf99a353573e7b6527c5226445048b451\n",
            "  Stored in directory: /root/.cache/pip/wheels/e9/bc/3a/8434bdcccf5779e72894a9b24fecbdcaf97940607eaf4bcdf9\n",
            "Successfully built pandasql\n",
            "Installing collected packages: pandasql\n",
            "Successfully installed pandasql-0.7.3\n"
          ]
        }
      ],
      "source": [
        "!pip install -U pandasql"
      ]
    },
    {
      "cell_type": "code",
      "execution_count": null,
      "metadata": {
        "colab": {
          "base_uri": "https://localhost:8080/"
        },
        "id": "eJDp6aXG9-Yb",
        "outputId": "4cbdfc5e-e72b-414c-9d2c-eef0efc28010"
      },
      "outputs": [
        {
          "output_type": "stream",
          "name": "stdout",
          "text": [
            "Mounted at /content/drive\n"
          ]
        }
      ],
      "source": [
        "import numpy as np\n",
        "import os\n",
        "import statistics\n",
        "import seaborn as sns\n",
        "import matplotlib.pyplot as plt\n",
        "import pandas as pd\n",
        "import re\n",
        "from datetime import date\n",
        "from pandas import DataFrame\n",
        "from pandasql import sqldf\n",
        "from pandas.core.reshape.pivot import pivot_table\n",
        "from google.cloud import bigquery\n",
        "from google.colab import drive\n",
        "drive.mount('/content/drive')"
      ]
    },
    {
      "cell_type": "code",
      "execution_count": null,
      "metadata": {
        "id": "bEa21Fge-klk"
      },
      "outputs": [],
      "source": [
        "os.environ[\"GOOGLE_APPLICATION_CREDENTIALS\"]=\"/content/drive/MyDrive/Data Analytics/private-key-group.json\""
      ]
    },
    {
      "cell_type": "code",
      "execution_count": null,
      "metadata": {
        "id": "9EhU5ZiL-odc"
      },
      "outputs": [],
      "source": [
        "bqclient = bigquery.Client()"
      ]
    },
    {
      "cell_type": "markdown",
      "metadata": {
        "id": "KMW5X3CE_oHr"
      },
      "source": [
        "# Data Description"
      ]
    },
    {
      "cell_type": "markdown",
      "source": [
        "Data diambil dari bitlabs-dab.G_CID_01.rfm_analysis"
      ],
      "metadata": {
        "id": "nA3tUeNDNeXn"
      }
    },
    {
      "cell_type": "code",
      "execution_count": null,
      "metadata": {
        "id": "CP2fHRzn_2cV",
        "colab": {
          "base_uri": "https://localhost:8080/",
          "height": 661
        },
        "outputId": "d70bf145-7eaf-49ae-cd91-07ae4e16b649"
      },
      "outputs": [
        {
          "output_type": "execute_result",
          "data": {
            "text/plain": [
              "                                           order_id  \\\n",
              "0      BHUhJ1ksV0RjEcF9oQkbQJi0Rrh/NmJBRTo29ReUDPM=   \n",
              "1      +VhWJAaZXDzU63l+jUTWvYLyEeMQ/2ixTT41tm4Fr9w=   \n",
              "2      QFrBNR0uMfxxQxaMGUUxkmb+wh3qLEPwQY+/JLMUZ1M=   \n",
              "3      tAhovo1iW5WzCOLpUAbM1Lcp+andZZrxjN2+hsOiABQ=   \n",
              "4      Xr3LDnjb7YXrW38OBFEvythV21RA4hLaHYto61nMnak=   \n",
              "...                                             ...   \n",
              "40126  B04Jd9gB+63zsWMjI+BuigWIhm3LWJ09f+Zc3laQQkM=   \n",
              "40127  RKZTuORz7h5YxyDnOMC1GaPXHdQJ/+rh2UpnCGCyra8=   \n",
              "40128  7x82euputR6EjZoO7gMwIdXE0xc0aI44F32Nbsb5szA=   \n",
              "40129  Yyjvi5RlLdOtcE0rpgMd7V/vhTt7lTDDEQMHp8BqkIY=   \n",
              "40130  N74NOqRCOuvks3ayCnIXK9k9kRWFhtV4OvBgD2K94xU=   \n",
              "\n",
              "                                            user_id   order_source  \\\n",
              "0      DydI3J1+v/H4wTK8moAOHIZivZfyspk3Kepm38G7bJw=        03. PSP   \n",
              "1      DydI3J1+v/H4wTK8moAOHIZivZfyspk3Kepm38G7bJw=        03. PSP   \n",
              "2      DydI3J1+v/H4wTK8moAOHIZivZfyspk3Kepm38G7bJw=        03. PSP   \n",
              "3      kEYBJVev9XTppv3P/Dtk7Yc3hPg8cFHAZvu8oWgklFY=        03. PSP   \n",
              "4      DydI3J1+v/H4wTK8moAOHIZivZfyspk3Kepm38G7bJw=        03. PSP   \n",
              "...                                             ...            ...   \n",
              "40126  sGK09zCINPfknDbtGeAem5qds3mrxQXr5huKjibG5vw=  99. Program A   \n",
              "40127  sGK09zCINPfknDbtGeAem5qds3mrxQXr5huKjibG5vw=  99. Program A   \n",
              "40128  sGK09zCINPfknDbtGeAem5qds3mrxQXr5huKjibG5vw=  99. Program A   \n",
              "40129  sGK09zCINPfknDbtGeAem5qds3mrxQXr5huKjibG5vw=  99. Program A   \n",
              "40130  sGK09zCINPfknDbtGeAem5qds3mrxQXr5huKjibG5vw=  99. Program A   \n",
              "\n",
              "                           cat_name       gmv            order_datetime  \\\n",
              "0           Beauty, Sport & Fashion  3.00E+07 2022-03-12 10:44:39+00:00   \n",
              "1                Agriculture & Food   6000000 2022-03-14 10:46:35+00:00   \n",
              "2                Agriculture & Food  3.00E+07 2022-04-16 08:04:58+00:00   \n",
              "3                Agriculture & Food   1935000 2022-01-21 01:09:05+00:00   \n",
              "4                       Electronics  3.00E+07 2022-04-12 10:13:20+00:00   \n",
              "...                             ...       ...                       ...   \n",
              "40126            Agriculture & Food  4,19E+10 2022-03-18 14:33:26+00:00   \n",
              "40127              Health & Medical  1.88E+07 2021-12-21 10:33:41+00:00   \n",
              "40128      Computer & Communication   6650000 2022-04-14 12:48:05+00:00   \n",
              "40129       Beauty, Sport & Fashion  1,44E+10 2022-03-29 08:42:06+00:00   \n",
              "40130  Machinery & Industrial Parts  9,93E+10 2021-11-30 11:44:33+00:00   \n",
              "\n",
              "      rejected_datetime platform_source  user_last_login_datetime  \\\n",
              "0                   NaT         Android                       NaT   \n",
              "1                   NaT         Android                       NaT   \n",
              "2                   NaT         Android                       NaT   \n",
              "3                   NaT         Android                       NaT   \n",
              "4                   NaT         Android                       NaT   \n",
              "...                 ...             ...                       ...   \n",
              "40126               NaT         website 2023-02-21 08:42:59+00:00   \n",
              "40127               NaT         website 2023-02-21 08:42:59+00:00   \n",
              "40128               NaT         website 2023-02-21 08:42:59+00:00   \n",
              "40129               NaT         website 2023-02-21 08:42:59+00:00   \n",
              "40130               NaT         website 2023-02-21 08:42:59+00:00   \n",
              "\n",
              "         user_register_datetime         gmv_1  \n",
              "0     2021-10-27 10:25:44+00:00  3.000000e+07  \n",
              "1     2021-10-27 10:25:44+00:00  6.000000e+06  \n",
              "2     2021-10-27 10:25:44+00:00  3.000000e+07  \n",
              "3     2022-01-01 23:52:52+00:00  1.935000e+06  \n",
              "4     2021-10-27 10:25:44+00:00  3.000000e+07  \n",
              "...                         ...           ...  \n",
              "40126 2021-09-03 09:22:21+00:00  4.190000e+12  \n",
              "40127 2021-09-03 09:22:21+00:00  1.880000e+07  \n",
              "40128 2021-09-03 09:22:21+00:00  6.650000e+06  \n",
              "40129 2021-09-03 09:22:21+00:00  1.440000e+12  \n",
              "40130 2021-09-03 09:22:21+00:00  9.930000e+12  \n",
              "\n",
              "[40131 rows x 11 columns]"
            ],
            "text/html": [
              "\n",
              "  <div id=\"df-fb7c928c-dccb-4307-a148-2d58a7445f87\">\n",
              "    <div class=\"colab-df-container\">\n",
              "      <div>\n",
              "<style scoped>\n",
              "    .dataframe tbody tr th:only-of-type {\n",
              "        vertical-align: middle;\n",
              "    }\n",
              "\n",
              "    .dataframe tbody tr th {\n",
              "        vertical-align: top;\n",
              "    }\n",
              "\n",
              "    .dataframe thead th {\n",
              "        text-align: right;\n",
              "    }\n",
              "</style>\n",
              "<table border=\"1\" class=\"dataframe\">\n",
              "  <thead>\n",
              "    <tr style=\"text-align: right;\">\n",
              "      <th></th>\n",
              "      <th>order_id</th>\n",
              "      <th>user_id</th>\n",
              "      <th>order_source</th>\n",
              "      <th>cat_name</th>\n",
              "      <th>gmv</th>\n",
              "      <th>order_datetime</th>\n",
              "      <th>rejected_datetime</th>\n",
              "      <th>platform_source</th>\n",
              "      <th>user_last_login_datetime</th>\n",
              "      <th>user_register_datetime</th>\n",
              "      <th>gmv_1</th>\n",
              "    </tr>\n",
              "  </thead>\n",
              "  <tbody>\n",
              "    <tr>\n",
              "      <th>0</th>\n",
              "      <td>BHUhJ1ksV0RjEcF9oQkbQJi0Rrh/NmJBRTo29ReUDPM=</td>\n",
              "      <td>DydI3J1+v/H4wTK8moAOHIZivZfyspk3Kepm38G7bJw=</td>\n",
              "      <td>03. PSP</td>\n",
              "      <td>Beauty, Sport &amp; Fashion</td>\n",
              "      <td>3.00E+07</td>\n",
              "      <td>2022-03-12 10:44:39+00:00</td>\n",
              "      <td>NaT</td>\n",
              "      <td>Android</td>\n",
              "      <td>NaT</td>\n",
              "      <td>2021-10-27 10:25:44+00:00</td>\n",
              "      <td>3.000000e+07</td>\n",
              "    </tr>\n",
              "    <tr>\n",
              "      <th>1</th>\n",
              "      <td>+VhWJAaZXDzU63l+jUTWvYLyEeMQ/2ixTT41tm4Fr9w=</td>\n",
              "      <td>DydI3J1+v/H4wTK8moAOHIZivZfyspk3Kepm38G7bJw=</td>\n",
              "      <td>03. PSP</td>\n",
              "      <td>Agriculture &amp; Food</td>\n",
              "      <td>6000000</td>\n",
              "      <td>2022-03-14 10:46:35+00:00</td>\n",
              "      <td>NaT</td>\n",
              "      <td>Android</td>\n",
              "      <td>NaT</td>\n",
              "      <td>2021-10-27 10:25:44+00:00</td>\n",
              "      <td>6.000000e+06</td>\n",
              "    </tr>\n",
              "    <tr>\n",
              "      <th>2</th>\n",
              "      <td>QFrBNR0uMfxxQxaMGUUxkmb+wh3qLEPwQY+/JLMUZ1M=</td>\n",
              "      <td>DydI3J1+v/H4wTK8moAOHIZivZfyspk3Kepm38G7bJw=</td>\n",
              "      <td>03. PSP</td>\n",
              "      <td>Agriculture &amp; Food</td>\n",
              "      <td>3.00E+07</td>\n",
              "      <td>2022-04-16 08:04:58+00:00</td>\n",
              "      <td>NaT</td>\n",
              "      <td>Android</td>\n",
              "      <td>NaT</td>\n",
              "      <td>2021-10-27 10:25:44+00:00</td>\n",
              "      <td>3.000000e+07</td>\n",
              "    </tr>\n",
              "    <tr>\n",
              "      <th>3</th>\n",
              "      <td>tAhovo1iW5WzCOLpUAbM1Lcp+andZZrxjN2+hsOiABQ=</td>\n",
              "      <td>kEYBJVev9XTppv3P/Dtk7Yc3hPg8cFHAZvu8oWgklFY=</td>\n",
              "      <td>03. PSP</td>\n",
              "      <td>Agriculture &amp; Food</td>\n",
              "      <td>1935000</td>\n",
              "      <td>2022-01-21 01:09:05+00:00</td>\n",
              "      <td>NaT</td>\n",
              "      <td>Android</td>\n",
              "      <td>NaT</td>\n",
              "      <td>2022-01-01 23:52:52+00:00</td>\n",
              "      <td>1.935000e+06</td>\n",
              "    </tr>\n",
              "    <tr>\n",
              "      <th>4</th>\n",
              "      <td>Xr3LDnjb7YXrW38OBFEvythV21RA4hLaHYto61nMnak=</td>\n",
              "      <td>DydI3J1+v/H4wTK8moAOHIZivZfyspk3Kepm38G7bJw=</td>\n",
              "      <td>03. PSP</td>\n",
              "      <td>Electronics</td>\n",
              "      <td>3.00E+07</td>\n",
              "      <td>2022-04-12 10:13:20+00:00</td>\n",
              "      <td>NaT</td>\n",
              "      <td>Android</td>\n",
              "      <td>NaT</td>\n",
              "      <td>2021-10-27 10:25:44+00:00</td>\n",
              "      <td>3.000000e+07</td>\n",
              "    </tr>\n",
              "    <tr>\n",
              "      <th>...</th>\n",
              "      <td>...</td>\n",
              "      <td>...</td>\n",
              "      <td>...</td>\n",
              "      <td>...</td>\n",
              "      <td>...</td>\n",
              "      <td>...</td>\n",
              "      <td>...</td>\n",
              "      <td>...</td>\n",
              "      <td>...</td>\n",
              "      <td>...</td>\n",
              "      <td>...</td>\n",
              "    </tr>\n",
              "    <tr>\n",
              "      <th>40126</th>\n",
              "      <td>B04Jd9gB+63zsWMjI+BuigWIhm3LWJ09f+Zc3laQQkM=</td>\n",
              "      <td>sGK09zCINPfknDbtGeAem5qds3mrxQXr5huKjibG5vw=</td>\n",
              "      <td>99. Program A</td>\n",
              "      <td>Agriculture &amp; Food</td>\n",
              "      <td>4,19E+10</td>\n",
              "      <td>2022-03-18 14:33:26+00:00</td>\n",
              "      <td>NaT</td>\n",
              "      <td>website</td>\n",
              "      <td>2023-02-21 08:42:59+00:00</td>\n",
              "      <td>2021-09-03 09:22:21+00:00</td>\n",
              "      <td>4.190000e+12</td>\n",
              "    </tr>\n",
              "    <tr>\n",
              "      <th>40127</th>\n",
              "      <td>RKZTuORz7h5YxyDnOMC1GaPXHdQJ/+rh2UpnCGCyra8=</td>\n",
              "      <td>sGK09zCINPfknDbtGeAem5qds3mrxQXr5huKjibG5vw=</td>\n",
              "      <td>99. Program A</td>\n",
              "      <td>Health &amp; Medical</td>\n",
              "      <td>1.88E+07</td>\n",
              "      <td>2021-12-21 10:33:41+00:00</td>\n",
              "      <td>NaT</td>\n",
              "      <td>website</td>\n",
              "      <td>2023-02-21 08:42:59+00:00</td>\n",
              "      <td>2021-09-03 09:22:21+00:00</td>\n",
              "      <td>1.880000e+07</td>\n",
              "    </tr>\n",
              "    <tr>\n",
              "      <th>40128</th>\n",
              "      <td>7x82euputR6EjZoO7gMwIdXE0xc0aI44F32Nbsb5szA=</td>\n",
              "      <td>sGK09zCINPfknDbtGeAem5qds3mrxQXr5huKjibG5vw=</td>\n",
              "      <td>99. Program A</td>\n",
              "      <td>Computer &amp; Communication</td>\n",
              "      <td>6650000</td>\n",
              "      <td>2022-04-14 12:48:05+00:00</td>\n",
              "      <td>NaT</td>\n",
              "      <td>website</td>\n",
              "      <td>2023-02-21 08:42:59+00:00</td>\n",
              "      <td>2021-09-03 09:22:21+00:00</td>\n",
              "      <td>6.650000e+06</td>\n",
              "    </tr>\n",
              "    <tr>\n",
              "      <th>40129</th>\n",
              "      <td>Yyjvi5RlLdOtcE0rpgMd7V/vhTt7lTDDEQMHp8BqkIY=</td>\n",
              "      <td>sGK09zCINPfknDbtGeAem5qds3mrxQXr5huKjibG5vw=</td>\n",
              "      <td>99. Program A</td>\n",
              "      <td>Beauty, Sport &amp; Fashion</td>\n",
              "      <td>1,44E+10</td>\n",
              "      <td>2022-03-29 08:42:06+00:00</td>\n",
              "      <td>NaT</td>\n",
              "      <td>website</td>\n",
              "      <td>2023-02-21 08:42:59+00:00</td>\n",
              "      <td>2021-09-03 09:22:21+00:00</td>\n",
              "      <td>1.440000e+12</td>\n",
              "    </tr>\n",
              "    <tr>\n",
              "      <th>40130</th>\n",
              "      <td>N74NOqRCOuvks3ayCnIXK9k9kRWFhtV4OvBgD2K94xU=</td>\n",
              "      <td>sGK09zCINPfknDbtGeAem5qds3mrxQXr5huKjibG5vw=</td>\n",
              "      <td>99. Program A</td>\n",
              "      <td>Machinery &amp; Industrial Parts</td>\n",
              "      <td>9,93E+10</td>\n",
              "      <td>2021-11-30 11:44:33+00:00</td>\n",
              "      <td>NaT</td>\n",
              "      <td>website</td>\n",
              "      <td>2023-02-21 08:42:59+00:00</td>\n",
              "      <td>2021-09-03 09:22:21+00:00</td>\n",
              "      <td>9.930000e+12</td>\n",
              "    </tr>\n",
              "  </tbody>\n",
              "</table>\n",
              "<p>40131 rows × 11 columns</p>\n",
              "</div>\n",
              "      <button class=\"colab-df-convert\" onclick=\"convertToInteractive('df-fb7c928c-dccb-4307-a148-2d58a7445f87')\"\n",
              "              title=\"Convert this dataframe to an interactive table.\"\n",
              "              style=\"display:none;\">\n",
              "        \n",
              "  <svg xmlns=\"http://www.w3.org/2000/svg\" height=\"24px\"viewBox=\"0 0 24 24\"\n",
              "       width=\"24px\">\n",
              "    <path d=\"M0 0h24v24H0V0z\" fill=\"none\"/>\n",
              "    <path d=\"M18.56 5.44l.94 2.06.94-2.06 2.06-.94-2.06-.94-.94-2.06-.94 2.06-2.06.94zm-11 1L8.5 8.5l.94-2.06 2.06-.94-2.06-.94L8.5 2.5l-.94 2.06-2.06.94zm10 10l.94 2.06.94-2.06 2.06-.94-2.06-.94-.94-2.06-.94 2.06-2.06.94z\"/><path d=\"M17.41 7.96l-1.37-1.37c-.4-.4-.92-.59-1.43-.59-.52 0-1.04.2-1.43.59L10.3 9.45l-7.72 7.72c-.78.78-.78 2.05 0 2.83L4 21.41c.39.39.9.59 1.41.59.51 0 1.02-.2 1.41-.59l7.78-7.78 2.81-2.81c.8-.78.8-2.07 0-2.86zM5.41 20L4 18.59l7.72-7.72 1.47 1.35L5.41 20z\"/>\n",
              "  </svg>\n",
              "      </button>\n",
              "      \n",
              "  <style>\n",
              "    .colab-df-container {\n",
              "      display:flex;\n",
              "      flex-wrap:wrap;\n",
              "      gap: 12px;\n",
              "    }\n",
              "\n",
              "    .colab-df-convert {\n",
              "      background-color: #E8F0FE;\n",
              "      border: none;\n",
              "      border-radius: 50%;\n",
              "      cursor: pointer;\n",
              "      display: none;\n",
              "      fill: #1967D2;\n",
              "      height: 32px;\n",
              "      padding: 0 0 0 0;\n",
              "      width: 32px;\n",
              "    }\n",
              "\n",
              "    .colab-df-convert:hover {\n",
              "      background-color: #E2EBFA;\n",
              "      box-shadow: 0px 1px 2px rgba(60, 64, 67, 0.3), 0px 1px 3px 1px rgba(60, 64, 67, 0.15);\n",
              "      fill: #174EA6;\n",
              "    }\n",
              "\n",
              "    [theme=dark] .colab-df-convert {\n",
              "      background-color: #3B4455;\n",
              "      fill: #D2E3FC;\n",
              "    }\n",
              "\n",
              "    [theme=dark] .colab-df-convert:hover {\n",
              "      background-color: #434B5C;\n",
              "      box-shadow: 0px 1px 3px 1px rgba(0, 0, 0, 0.15);\n",
              "      filter: drop-shadow(0px 1px 2px rgba(0, 0, 0, 0.3));\n",
              "      fill: #FFFFFF;\n",
              "    }\n",
              "  </style>\n",
              "\n",
              "      <script>\n",
              "        const buttonEl =\n",
              "          document.querySelector('#df-fb7c928c-dccb-4307-a148-2d58a7445f87 button.colab-df-convert');\n",
              "        buttonEl.style.display =\n",
              "          google.colab.kernel.accessAllowed ? 'block' : 'none';\n",
              "\n",
              "        async function convertToInteractive(key) {\n",
              "          const element = document.querySelector('#df-fb7c928c-dccb-4307-a148-2d58a7445f87');\n",
              "          const dataTable =\n",
              "            await google.colab.kernel.invokeFunction('convertToInteractive',\n",
              "                                                     [key], {});\n",
              "          if (!dataTable) return;\n",
              "\n",
              "          const docLinkHtml = 'Like what you see? Visit the ' +\n",
              "            '<a target=\"_blank\" href=https://colab.research.google.com/notebooks/data_table.ipynb>data table notebook</a>'\n",
              "            + ' to learn more about interactive tables.';\n",
              "          element.innerHTML = '';\n",
              "          dataTable['output_type'] = 'display_data';\n",
              "          await google.colab.output.renderOutput(dataTable, element);\n",
              "          const docLink = document.createElement('div');\n",
              "          docLink.innerHTML = docLinkHtml;\n",
              "          element.appendChild(docLink);\n",
              "        }\n",
              "      </script>\n",
              "    </div>\n",
              "  </div>\n",
              "  "
            ]
          },
          "metadata": {},
          "execution_count": 6
        }
      ],
      "source": [
        "#mengambil data dari bigquery dan membuat kolom gmw baru yang type datanya float\n",
        "query_string = \"\"\"\n",
        "SELECT *,\n",
        "CAST(safe.parse_numeric(gmv)as float64) as gmv\n",
        "FROM `bitlabs-dab.G_CID_01.rfm_analysis`\n",
        "\"\"\"\n",
        "\n",
        "df = (\n",
        "    bqclient.query(query_string)\n",
        "    .result()\n",
        "    .to_dataframe()\n",
        ")\n",
        "df"
      ]
    },
    {
      "cell_type": "code",
      "execution_count": null,
      "metadata": {
        "id": "wYj2vaXXJ6oX"
      },
      "outputs": [],
      "source": [
        "#hapus kolom gmv lama dengan type data object\n",
        "del(df['gmv'])"
      ]
    },
    {
      "cell_type": "markdown",
      "metadata": {
        "id": "nAtyfuc9CXU-"
      },
      "source": [
        "# Handling Missing Value"
      ]
    },
    {
      "cell_type": "code",
      "execution_count": null,
      "metadata": {
        "id": "bxKqgpndCaWT",
        "colab": {
          "base_uri": "https://localhost:8080/"
        },
        "outputId": "e0ad549f-cca1-46a2-981d-279651b9d68a"
      },
      "outputs": [
        {
          "output_type": "stream",
          "name": "stdout",
          "text": [
            "<class 'pandas.core.frame.DataFrame'>\n",
            "RangeIndex: 40131 entries, 0 to 40130\n",
            "Data columns (total 10 columns):\n",
            " #   Column                    Non-Null Count  Dtype              \n",
            "---  ------                    --------------  -----              \n",
            " 0   order_id                  40065 non-null  object             \n",
            " 1   user_id                   40131 non-null  object             \n",
            " 2   order_source              40131 non-null  object             \n",
            " 3   cat_name                  40131 non-null  object             \n",
            " 4   order_datetime            40131 non-null  datetime64[ns, UTC]\n",
            " 5   rejected_datetime         1064 non-null   datetime64[ns, UTC]\n",
            " 6   platform_source           40131 non-null  object             \n",
            " 7   user_last_login_datetime  37928 non-null  datetime64[ns, UTC]\n",
            " 8   user_register_datetime    40131 non-null  datetime64[ns, UTC]\n",
            " 9   gmv_1                     39937 non-null  float64            \n",
            "dtypes: datetime64[ns, UTC](4), float64(1), object(5)\n",
            "memory usage: 3.1+ MB\n"
          ]
        }
      ],
      "source": [
        "df.info()"
      ]
    },
    {
      "cell_type": "markdown",
      "source": [
        "Kami memutuskan untuk men-drop missing value 'order_id' dan 'user_last_login_datetime' karena missing value ini bersifat Missing Value Completely at Random (MCAR) yang artinya missing data yang terjadi benar-benar secara random."
      ],
      "metadata": {
        "id": "VfiSsx6yPmG0"
      }
    },
    {
      "cell_type": "code",
      "execution_count": null,
      "metadata": {
        "id": "ab6-tVDlHc3_"
      },
      "outputs": [],
      "source": [
        "df = df.dropna(subset=['order_id'])\n",
        "df = df.dropna(subset=['user_last_login_datetime'])"
      ]
    },
    {
      "cell_type": "code",
      "execution_count": null,
      "metadata": {
        "colab": {
          "base_uri": "https://localhost:8080/"
        },
        "id": "pvn0SOBg9qkF",
        "outputId": "22ad4813-d88d-4366-ae30-2cca41f3d9e6"
      },
      "outputs": [
        {
          "output_type": "stream",
          "name": "stderr",
          "text": [
            "<ipython-input-10-0e63f90762c8>:1: UserWarning: \n",
            "\n",
            "`distplot` is a deprecated function and will be removed in seaborn v0.14.0.\n",
            "\n",
            "Please adapt your code to use either `displot` (a figure-level function with\n",
            "similar flexibility) or `histplot` (an axes-level function for histograms).\n",
            "\n",
            "For a guide to updating your code to use the new functions, please see\n",
            "https://gist.github.com/mwaskom/de44147ed2974457ad6372750bbe5751\n",
            "\n",
            "  sns.distplot(df['gmv_1'])\n"
          ]
        },
        {
          "output_type": "execute_result",
          "data": {
            "text/plain": [
              "<Axes: xlabel='gmv_1', ylabel='Density'>"
            ]
          },
          "metadata": {},
          "execution_count": 10
        },
        {
          "output_type": "display_data",
          "data": {
            "text/plain": [
              "<Figure size 640x480 with 1 Axes>"
            ],
            "image/png": "[encoded data removed]"
          },
          "metadata": {}
        }
      ],
      "source": [
        "sns.distplot(df['gmv_1'])"
      ]
    },
    {
      "cell_type": "code",
      "execution_count": null,
      "metadata": {
        "id": "yD0koAP1Hng0"
      },
      "outputs": [],
      "source": [
        "#karena distribusi gmv_1 tidak berdistribusi normal maka missing value gmv_1 diganti dengan median\n",
        "df['gmv_1'] = df['gmv_1'].fillna(df['gmv_1'].median())"
      ]
    },
    {
      "cell_type": "code",
      "source": [
        "#nilai null pada 'rejected_datetime' berarti orderan diterima user\n",
        "df.isnull().sum()"
      ],
      "metadata": {
        "colab": {
          "base_uri": "https://localhost:8080/"
        },
        "id": "kQGQyLqvRMOg",
        "outputId": "1a16a487-8d0b-4be8-b216-ba5ca1cd6388"
      },
      "execution_count": null,
      "outputs": [
        {
          "output_type": "execute_result",
          "data": {
            "text/plain": [
              "order_id                        0\n",
              "user_id                         0\n",
              "order_source                    0\n",
              "cat_name                        0\n",
              "order_datetime                  0\n",
              "rejected_datetime           36817\n",
              "platform_source                 0\n",
              "user_last_login_datetime        0\n",
              "user_register_datetime          0\n",
              "gmv_1                           0\n",
              "dtype: int64"
            ]
          },
          "metadata": {},
          "execution_count": 12
        }
      ]
    },
    {
      "cell_type": "markdown",
      "source": [
        "# Handling Duplicate Value"
      ],
      "metadata": {
        "id": "lnJaAGVhSZIF"
      }
    },
    {
      "cell_type": "code",
      "source": [
        "df.duplicated().sum()"
      ],
      "metadata": {
        "colab": {
          "base_uri": "https://localhost:8080/"
        },
        "id": "r3ToZWeUS9Ph",
        "outputId": "282928a0-4f8d-4987-ba41-eca5800e742b"
      },
      "execution_count": null,
      "outputs": [
        {
          "output_type": "execute_result",
          "data": {
            "text/plain": [
              "145"
            ]
          },
          "metadata": {},
          "execution_count": 13
        }
      ]
    },
    {
      "cell_type": "code",
      "source": [
        "df[df.duplicated(['order_id', 'user_id','order_datetime'], keep=False)]"
      ],
      "metadata": {
        "colab": {
          "base_uri": "https://localhost:8080/"
        },
        "id": "ZjRWZbvnYN0a",
        "outputId": "6afc942b-b89b-4a2f-d4d2-49bbfae15b6a"
      },
      "execution_count": null,
      "outputs": [
        {
          "output_type": "execute_result",
          "data": {
            "text/plain": [
              "                                           order_id  \\\n",
              "151    eN10BmyVLOxHlXSB6kk9o+7YQ43Mr7akv2U1rGtsyIE=   \n",
              "156    eN10BmyVLOxHlXSB6kk9o+7YQ43Mr7akv2U1rGtsyIE=   \n",
              "179    cQidpOh6R1H4a7bv+iiSvNRFQ1VG8xR7Iu9KIIV/fBU=   \n",
              "183    cQidpOh6R1H4a7bv+iiSvNRFQ1VG8xR7Iu9KIIV/fBU=   \n",
              "229    Eg0/5A4A3RVXRJrvdF4xM8euzU4L3vJCVNBT5H5rCMk=   \n",
              "...                                             ...   \n",
              "40068  INRgNphnJgqUL/Qb+LsRyrXghWO/C/jePfDQ+pIGSWY=   \n",
              "40072  INRgNphnJgqUL/Qb+LsRyrXghWO/C/jePfDQ+pIGSWY=   \n",
              "40080  1+KLmDshD1zY8tvwz9rXto2p2WV+nd8O60f1i2ZXqP4=   \n",
              "40115  0Qshmvpe469APck3vFd2c2YBbvHoh/9bT3pVUn6Sk3Q=   \n",
              "40117  jdYNkOL1MHxPX/eLqBVmxGYPrFZMEqFcPFRSTlNKm7c=   \n",
              "\n",
              "                                            user_id   order_source  \\\n",
              "151    RD3ye1vIr7qzqO3lKlwpOFhWAhXvsTc2S3iCi6RMt7A=        03. PSP   \n",
              "156    RD3ye1vIr7qzqO3lKlwpOFhWAhXvsTc2S3iCi6RMt7A=        03. PSP   \n",
              "179    whBCR6dvR3k3PyAwWvdEQFOvfyirpExREgRg5rKFDzc=        03. PSP   \n",
              "183    whBCR6dvR3k3PyAwWvdEQFOvfyirpExREgRg5rKFDzc=        03. PSP   \n",
              "229    i2G59UDcwhxqNTYRHtSaF7RYGehqCHZbfkOFZm9fKsI=        03. PSP   \n",
              "...                                             ...            ...   \n",
              "40068  sGK09zCINPfknDbtGeAem5qds3mrxQXr5huKjibG5vw=  99. Program A   \n",
              "40072  sGK09zCINPfknDbtGeAem5qds3mrxQXr5huKjibG5vw=  99. Program A   \n",
              "40080  sGK09zCINPfknDbtGeAem5qds3mrxQXr5huKjibG5vw=  99. Program A   \n",
              "40115  sGK09zCINPfknDbtGeAem5qds3mrxQXr5huKjibG5vw=  99. Program A   \n",
              "40117  sGK09zCINPfknDbtGeAem5qds3mrxQXr5huKjibG5vw=  99. Program A   \n",
              "\n",
              "                           cat_name            order_datetime  \\\n",
              "151        Computer & Communication 2019-09-23 10:38:44+00:00   \n",
              "156        Computer & Communication 2019-09-23 10:38:44+00:00   \n",
              "179        Computer & Communication 2019-06-18 10:39:10+00:00   \n",
              "183        Computer & Communication 2019-06-18 10:39:10+00:00   \n",
              "229        Computer & Communication 2022-02-07 14:01:31+00:00   \n",
              "...                             ...                       ...   \n",
              "40068      Computer & Communication 2022-03-11 10:04:42+00:00   \n",
              "40072      Computer & Communication 2022-03-11 10:04:42+00:00   \n",
              "40080  Machinery & Industrial Parts 2022-04-20 15:15:37+00:00   \n",
              "40115              Health & Medical 2022-06-20 15:13:10+00:00   \n",
              "40117  Machinery & Industrial Parts 2021-12-09 15:57:35+00:00   \n",
              "\n",
              "      rejected_datetime platform_source  user_last_login_datetime  \\\n",
              "151                 NaT         website 2021-06-29 16:23:00+00:00   \n",
              "156                 NaT         website 2021-06-29 16:23:00+00:00   \n",
              "179                 NaT         website 2021-06-02 19:02:32+00:00   \n",
              "183                 NaT         website 2021-06-02 19:02:32+00:00   \n",
              "229                 NaT         Android 2021-07-11 20:02:04+00:00   \n",
              "...                 ...             ...                       ...   \n",
              "40068               NaT         website 2023-02-21 08:42:59+00:00   \n",
              "40072               NaT         website 2023-02-21 08:42:59+00:00   \n",
              "40080               NaT         website 2023-02-21 08:42:59+00:00   \n",
              "40115               NaT         website 2023-02-21 08:42:59+00:00   \n",
              "40117               NaT         website 2023-02-21 08:42:59+00:00   \n",
              "\n",
              "         user_register_datetime         gmv_1  \n",
              "151   2019-04-18 10:22:57+00:00  2.184000e+06  \n",
              "156   2019-04-18 10:22:57+00:00  6.110000e+06  \n",
              "179   2019-04-25 06:34:22+00:00  4.640000e+13  \n",
              "183   2019-04-25 06:34:22+00:00  4.040000e+13  \n",
              "229   2021-07-11 19:51:34+00:00  2.580000e+13  \n",
              "...                         ...           ...  \n",
              "40068 2021-09-03 09:22:21+00:00  3.300000e+07  \n",
              "40072 2021-09-03 09:22:21+00:00  2.200000e+07  \n",
              "40080 2021-09-03 09:22:21+00:00  7.480000e+06  \n",
              "40115 2021-09-03 09:22:21+00:00  3.750000e+07  \n",
              "40117 2021-09-03 09:22:21+00:00  5.000000e+05  \n",
              "\n",
              "[1757 rows x 10 columns]"
            ],
            "text/html": [
              "\n",
              "  <div id=\"df-a3049088-7726-41c1-bce1-6d519cfaa585\">\n",
              "    <div class=\"colab-df-container\">\n",
              "      <div>\n",
              "<style scoped>\n",
              "    .dataframe tbody tr th:only-of-type {\n",
              "        vertical-align: middle;\n",
              "    }\n",
              "\n",
              "    .dataframe tbody tr th {\n",
              "        vertical-align: top;\n",
              "    }\n",
              "\n",
              "    .dataframe thead th {\n",
              "        text-align: right;\n",
              "    }\n",
              "</style>\n",
              "<table border=\"1\" class=\"dataframe\">\n",
              "  <thead>\n",
              "    <tr style=\"text-align: right;\">\n",
              "      <th></th>\n",
              "      <th>order_id</th>\n",
              "      <th>user_id</th>\n",
              "      <th>order_source</th>\n",
              "      <th>cat_name</th>\n",
              "      <th>order_datetime</th>\n",
              "      <th>rejected_datetime</th>\n",
              "      <th>platform_source</th>\n",
              "      <th>user_last_login_datetime</th>\n",
              "      <th>user_register_datetime</th>\n",
              "      <th>gmv_1</th>\n",
              "    </tr>\n",
              "  </thead>\n",
              "  <tbody>\n",
              "    <tr>\n",
              "      <th>151</th>\n",
              "      <td>eN10BmyVLOxHlXSB6kk9o+7YQ43Mr7akv2U1rGtsyIE=</td>\n",
              "      <td>RD3ye1vIr7qzqO3lKlwpOFhWAhXvsTc2S3iCi6RMt7A=</td>\n",
              "      <td>03. PSP</td>\n",
              "      <td>Computer &amp; Communication</td>\n",
              "      <td>2019-09-23 10:38:44+00:00</td>\n",
              "      <td>NaT</td>\n",
              "      <td>website</td>\n",
              "      <td>2021-06-29 16:23:00+00:00</td>\n",
              "      <td>2019-04-18 10:22:57+00:00</td>\n",
              "      <td>2.184000e+06</td>\n",
              "    </tr>\n",
              "    <tr>\n",
              "      <th>156</th>\n",
              "      <td>eN10BmyVLOxHlXSB6kk9o+7YQ43Mr7akv2U1rGtsyIE=</td>\n",
              "      <td>RD3ye1vIr7qzqO3lKlwpOFhWAhXvsTc2S3iCi6RMt7A=</td>\n",
              "      <td>03. PSP</td>\n",
              "      <td>Computer &amp; Communication</td>\n",
              "      <td>2019-09-23 10:38:44+00:00</td>\n",
              "      <td>NaT</td>\n",
              "      <td>website</td>\n",
              "      <td>2021-06-29 16:23:00+00:00</td>\n",
              "      <td>2019-04-18 10:22:57+00:00</td>\n",
              "      <td>6.110000e+06</td>\n",
              "    </tr>\n",
              "    <tr>\n",
              "      <th>179</th>\n",
              "      <td>cQidpOh6R1H4a7bv+iiSvNRFQ1VG8xR7Iu9KIIV/fBU=</td>\n",
              "      <td>whBCR6dvR3k3PyAwWvdEQFOvfyirpExREgRg5rKFDzc=</td>\n",
              "      <td>03. PSP</td>\n",
              "      <td>Computer &amp; Communication</td>\n",
              "      <td>2019-06-18 10:39:10+00:00</td>\n",
              "      <td>NaT</td>\n",
              "      <td>website</td>\n",
              "      <td>2021-06-02 19:02:32+00:00</td>\n",
              "      <td>2019-04-25 06:34:22+00:00</td>\n",
              "      <td>4.640000e+13</td>\n",
              "    </tr>\n",
              "    <tr>\n",
              "      <th>183</th>\n",
              "      <td>cQidpOh6R1H4a7bv+iiSvNRFQ1VG8xR7Iu9KIIV/fBU=</td>\n",
              "      <td>whBCR6dvR3k3PyAwWvdEQFOvfyirpExREgRg5rKFDzc=</td>\n",
              "      <td>03. PSP</td>\n",
              "      <td>Computer &amp; Communication</td>\n",
              "      <td>2019-06-18 10:39:10+00:00</td>\n",
              "      <td>NaT</td>\n",
              "      <td>website</td>\n",
              "      <td>2021-06-02 19:02:32+00:00</td>\n",
              "      <td>2019-04-25 06:34:22+00:00</td>\n",
              "      <td>4.040000e+13</td>\n",
              "    </tr>\n",
              "    <tr>\n",
              "      <th>229</th>\n",
              "      <td>Eg0/5A4A3RVXRJrvdF4xM8euzU4L3vJCVNBT5H5rCMk=</td>\n",
              "      <td>i2G59UDcwhxqNTYRHtSaF7RYGehqCHZbfkOFZm9fKsI=</td>\n",
              "      <td>03. PSP</td>\n",
              "      <td>Computer &amp; Communication</td>\n",
              "      <td>2022-02-07 14:01:31+00:00</td>\n",
              "      <td>NaT</td>\n",
              "      <td>Android</td>\n",
              "      <td>2021-07-11 20:02:04+00:00</td>\n",
              "      <td>2021-07-11 19:51:34+00:00</td>\n",
              "      <td>2.580000e+13</td>\n",
              "    </tr>\n",
              "    <tr>\n",
              "      <th>...</th>\n",
              "      <td>...</td>\n",
              "      <td>...</td>\n",
              "      <td>...</td>\n",
              "      <td>...</td>\n",
              "      <td>...</td>\n",
              "      <td>...</td>\n",
              "      <td>...</td>\n",
              "      <td>...</td>\n",
              "      <td>...</td>\n",
              "      <td>...</td>\n",
              "    </tr>\n",
              "    <tr>\n",
              "      <th>40068</th>\n",
              "      <td>INRgNphnJgqUL/Qb+LsRyrXghWO/C/jePfDQ+pIGSWY=</td>\n",
              "      <td>sGK09zCINPfknDbtGeAem5qds3mrxQXr5huKjibG5vw=</td>\n",
              "      <td>99. Program A</td>\n",
              "      <td>Computer &amp; Communication</td>\n",
              "      <td>2022-03-11 10:04:42+00:00</td>\n",
              "      <td>NaT</td>\n",
              "      <td>website</td>\n",
              "      <td>2023-02-21 08:42:59+00:00</td>\n",
              "      <td>2021-09-03 09:22:21+00:00</td>\n",
              "      <td>3.300000e+07</td>\n",
              "    </tr>\n",
              "    <tr>\n",
              "      <th>40072</th>\n",
              "      <td>INRgNphnJgqUL/Qb+LsRyrXghWO/C/jePfDQ+pIGSWY=</td>\n",
              "      <td>sGK09zCINPfknDbtGeAem5qds3mrxQXr5huKjibG5vw=</td>\n",
              "      <td>99. Program A</td>\n",
              "      <td>Computer &amp; Communication</td>\n",
              "      <td>2022-03-11 10:04:42+00:00</td>\n",
              "      <td>NaT</td>\n",
              "      <td>website</td>\n",
              "      <td>2023-02-21 08:42:59+00:00</td>\n",
              "      <td>2021-09-03 09:22:21+00:00</td>\n",
              "      <td>2.200000e+07</td>\n",
              "    </tr>\n",
              "    <tr>\n",
              "      <th>40080</th>\n",
              "      <td>1+KLmDshD1zY8tvwz9rXto2p2WV+nd8O60f1i2ZXqP4=</td>\n",
              "      <td>sGK09zCINPfknDbtGeAem5qds3mrxQXr5huKjibG5vw=</td>\n",
              "      <td>99. Program A</td>\n",
              "      <td>Machinery &amp; Industrial Parts</td>\n",
              "      <td>2022-04-20 15:15:37+00:00</td>\n",
              "      <td>NaT</td>\n",
              "      <td>website</td>\n",
              "      <td>2023-02-21 08:42:59+00:00</td>\n",
              "      <td>2021-09-03 09:22:21+00:00</td>\n",
              "      <td>7.480000e+06</td>\n",
              "    </tr>\n",
              "    <tr>\n",
              "      <th>40115</th>\n",
              "      <td>0Qshmvpe469APck3vFd2c2YBbvHoh/9bT3pVUn6Sk3Q=</td>\n",
              "      <td>sGK09zCINPfknDbtGeAem5qds3mrxQXr5huKjibG5vw=</td>\n",
              "      <td>99. Program A</td>\n",
              "      <td>Health &amp; Medical</td>\n",
              "      <td>2022-06-20 15:13:10+00:00</td>\n",
              "      <td>NaT</td>\n",
              "      <td>website</td>\n",
              "      <td>2023-02-21 08:42:59+00:00</td>\n",
              "      <td>2021-09-03 09:22:21+00:00</td>\n",
              "      <td>3.750000e+07</td>\n",
              "    </tr>\n",
              "    <tr>\n",
              "      <th>40117</th>\n",
              "      <td>jdYNkOL1MHxPX/eLqBVmxGYPrFZMEqFcPFRSTlNKm7c=</td>\n",
              "      <td>sGK09zCINPfknDbtGeAem5qds3mrxQXr5huKjibG5vw=</td>\n",
              "      <td>99. Program A</td>\n",
              "      <td>Machinery &amp; Industrial Parts</td>\n",
              "      <td>2021-12-09 15:57:35+00:00</td>\n",
              "      <td>NaT</td>\n",
              "      <td>website</td>\n",
              "      <td>2023-02-21 08:42:59+00:00</td>\n",
              "      <td>2021-09-03 09:22:21+00:00</td>\n",
              "      <td>5.000000e+05</td>\n",
              "    </tr>\n",
              "  </tbody>\n",
              "</table>\n",
              "<p>1757 rows × 10 columns</p>\n",
              "</div>\n",
              "      <button class=\"colab-df-convert\" onclick=\"convertToInteractive('df-a3049088-7726-41c1-bce1-6d519cfaa585')\"\n",
              "              title=\"Convert this dataframe to an interactive table.\"\n",
              "              style=\"display:none;\">\n",
              "        \n",
              "  <svg xmlns=\"http://www.w3.org/2000/svg\" height=\"24px\"viewBox=\"0 0 24 24\"\n",
              "       width=\"24px\">\n",
              "    <path d=\"M0 0h24v24H0V0z\" fill=\"none\"/>\n",
              "    <path d=\"M18.56 5.44l.94 2.06.94-2.06 2.06-.94-2.06-.94-.94-2.06-.94 2.06-2.06.94zm-11 1L8.5 8.5l.94-2.06 2.06-.94-2.06-.94L8.5 2.5l-.94 2.06-2.06.94zm10 10l.94 2.06.94-2.06 2.06-.94-2.06-.94-.94-2.06-.94 2.06-2.06.94z\"/><path d=\"M17.41 7.96l-1.37-1.37c-.4-.4-.92-.59-1.43-.59-.52 0-1.04.2-1.43.59L10.3 9.45l-7.72 7.72c-.78.78-.78 2.05 0 2.83L4 21.41c.39.39.9.59 1.41.59.51 0 1.02-.2 1.41-.59l7.78-7.78 2.81-2.81c.8-.78.8-2.07 0-2.86zM5.41 20L4 18.59l7.72-7.72 1.47 1.35L5.41 20z\"/>\n",
              "  </svg>\n",
              "      </button>\n",
              "      \n",
              "  <style>\n",
              "    .colab-df-container {\n",
              "      display:flex;\n",
              "      flex-wrap:wrap;\n",
              "      gap: 12px;\n",
              "    }\n",
              "\n",
              "    .colab-df-convert {\n",
              "      background-color: #E8F0FE;\n",
              "      border: none;\n",
              "      border-radius: 50%;\n",
              "      cursor: pointer;\n",
              "      display: none;\n",
              "      fill: #1967D2;\n",
              "      height: 32px;\n",
              "      padding: 0 0 0 0;\n",
              "      width: 32px;\n",
              "    }\n",
              "\n",
              "    .colab-df-convert:hover {\n",
              "      background-color: #E2EBFA;\n",
              "      box-shadow: 0px 1px 2px rgba(60, 64, 67, 0.3), 0px 1px 3px 1px rgba(60, 64, 67, 0.15);\n",
              "      fill: #174EA6;\n",
              "    }\n",
              "\n",
              "    [theme=dark] .colab-df-convert {\n",
              "      background-color: #3B4455;\n",
              "      fill: #D2E3FC;\n",
              "    }\n",
              "\n",
              "    [theme=dark] .colab-df-convert:hover {\n",
              "      background-color: #434B5C;\n",
              "      box-shadow: 0px 1px 3px 1px rgba(0, 0, 0, 0.15);\n",
              "      filter: drop-shadow(0px 1px 2px rgba(0, 0, 0, 0.3));\n",
              "      fill: #FFFFFF;\n",
              "    }\n",
              "  </style>\n",
              "\n",
              "      <script>\n",
              "        const buttonEl =\n",
              "          document.querySelector('#df-a3049088-7726-41c1-bce1-6d519cfaa585 button.colab-df-convert');\n",
              "        buttonEl.style.display =\n",
              "          google.colab.kernel.accessAllowed ? 'block' : 'none';\n",
              "\n",
              "        async function convertToInteractive(key) {\n",
              "          const element = document.querySelector('#df-a3049088-7726-41c1-bce1-6d519cfaa585');\n",
              "          const dataTable =\n",
              "            await google.colab.kernel.invokeFunction('convertToInteractive',\n",
              "                                                     [key], {});\n",
              "          if (!dataTable) return;\n",
              "\n",
              "          const docLinkHtml = 'Like what you see? Visit the ' +\n",
              "            '<a target=\"_blank\" href=https://colab.research.google.com/notebooks/data_table.ipynb>data table notebook</a>'\n",
              "            + ' to learn more about interactive tables.';\n",
              "          element.innerHTML = '';\n",
              "          dataTable['output_type'] = 'display_data';\n",
              "          await google.colab.output.renderOutput(dataTable, element);\n",
              "          const docLink = document.createElement('div');\n",
              "          docLink.innerHTML = docLinkHtml;\n",
              "          element.appendChild(docLink);\n",
              "        }\n",
              "      </script>\n",
              "    </div>\n",
              "  </div>\n",
              "  "
            ]
          },
          "metadata": {},
          "execution_count": 14
        }
      ]
    },
    {
      "cell_type": "markdown",
      "source": [
        "Hasil pengecekan menunjukan bahwa data yang duplicate terjadi karena adanya customer yang bertransaksi yang sama dan membeli item yang sama. Berdasarkan pengecekan tersebut, kami memutuskan untuk menghapus data yang duplicate karena transaksi yang terjadi sebenarnya sama."
      ],
      "metadata": {
        "id": "ROUFDvO9XZyX"
      }
    },
    {
      "cell_type": "code",
      "source": [
        "df = df.drop_duplicates(['order_id', 'user_id','order_datetime'], keep=False)"
      ],
      "metadata": {
        "id": "qvk5v1evZcJG"
      },
      "execution_count": null,
      "outputs": []
    },
    {
      "cell_type": "code",
      "source": [
        "df.duplicated().sum()"
      ],
      "metadata": {
        "colab": {
          "base_uri": "https://localhost:8080/"
        },
        "id": "WjLPSwWcaC8N",
        "outputId": "80ce9c6a-c9c5-4ba1-8705-800bddfba9c9"
      },
      "execution_count": null,
      "outputs": [
        {
          "output_type": "execute_result",
          "data": {
            "text/plain": [
              "0"
            ]
          },
          "metadata": {},
          "execution_count": 16
        }
      ]
    },
    {
      "cell_type": "markdown",
      "source": [
        "# Handling Outliers"
      ],
      "metadata": {
        "id": "Wi8HaTsqV3OK"
      }
    },
    {
      "cell_type": "code",
      "source": [
        "df['gmv_1'] = df['gmv_1'].astype(int)"
      ],
      "metadata": {
        "id": "-x6OnuhSV-jM"
      },
      "execution_count": null,
      "outputs": []
    },
    {
      "cell_type": "code",
      "source": [
        "plt.boxplot(df['gmv_1'])\n",
        "#dari boxplot dibawah terdapat outliner pada kolom gmv_1 namun menurut kami bukan anomali sehingga tidak perlu di drop"
      ],
      "metadata": {
        "colab": {
          "base_uri": "https://localhost:8080/"
        },
        "id": "Xpa4AXMkWO_y",
        "outputId": "e51fa990-94c8-445d-9d56-5a43eb618883"
      },
      "execution_count": null,
      "outputs": [
        {
          "output_type": "execute_result",
          "data": {
            "text/plain": [
              "{'whiskers': [<matplotlib.lines.Line2D at 0x7fe2ed4144f0>,\n",
              "  <matplotlib.lines.Line2D at 0x7fe2ed414790>],\n",
              " 'caps': [<matplotlib.lines.Line2D at 0x7fe2ed414a30>,\n",
              "  <matplotlib.lines.Line2D at 0x7fe2ed414cd0>],\n",
              " 'boxes': [<matplotlib.lines.Line2D at 0x7fe2ed414250>],\n",
              " 'medians': [<matplotlib.lines.Line2D at 0x7fe2ed414f70>],\n",
              " 'fliers': [<matplotlib.lines.Line2D at 0x7fe2ed415210>],\n",
              " 'means': []}"
            ]
          },
          "metadata": {},
          "execution_count": 18
        },
        {
          "output_type": "display_data",
          "data": {
            "text/plain": [
              "<Figure size 640x480 with 1 Axes>"
            ],
            "image/png": "[encoded data removed]"
          },
          "metadata": {}
        }
      ]
    },
    {
      "cell_type": "code",
      "source": [
        "df['gmv_1'].describe()"
      ],
      "metadata": {
        "colab": {
          "base_uri": "https://localhost:8080/"
        },
        "id": "p3Sd5zkxWRPw",
        "outputId": "08d3ab79-7e4d-42d6-a79f-79e619827d3a"
      },
      "execution_count": null,
      "outputs": [
        {
          "output_type": "execute_result",
          "data": {
            "text/plain": [
              "count    3.610700e+04\n",
              "mean     1.330910e+15\n",
              "std      9.641378e+16\n",
              "min     -9.223372e+18\n",
              "25%      2.000000e+05\n",
              "50%      3.810000e+06\n",
              "75%      9.795000e+07\n",
              "max      7.280000e+18\n",
              "Name: gmv_1, dtype: float64"
            ]
          },
          "metadata": {},
          "execution_count": 19
        }
      ]
    },
    {
      "cell_type": "markdown",
      "source": [
        "# Data Transformation and Feature Engineering"
      ],
      "metadata": {
        "id": "Z03_4MgQqc0C"
      }
    },
    {
      "cell_type": "code",
      "source": [
        "#menambahkan kolom channels\n",
        "def format_val(x):\n",
        "  if x == '01. Agent':\n",
        "    return \"Agent Program\"\n",
        "  elif x == '03. PSP':\n",
        "    return \"Seller Program\"\n",
        "  elif x == '04. TTS':\n",
        "    return \"Voucher Program\"\n",
        "  elif x == '13. Neoclinic':\n",
        "    return \"Healthcare and Merchandise Program\"\n",
        "  elif x == '08. Homebrand':\n",
        "    return \"Healthcare and Merchandise Program\"\n",
        "  elif x == '99. Program A':\n",
        "    return \"Prospect Program\"\n",
        "  elif x == '06. Organic':\n",
        "    return \"Organic\"\n",
        "  else:\n",
        "    return x== \"Exporium\"\n",
        "\n",
        "df['channels'] = df['order_source'].apply(format_val)"
      ],
      "metadata": {
        "id": "daxOrnNXqg59"
      },
      "execution_count": null,
      "outputs": []
    },
    {
      "cell_type": "code",
      "source": [
        "#menambahkan kolom segment_category\n",
        "def format_val2(x):\n",
        "  if x == 'Agriculture & Food' :\n",
        "    return 'F & B'\n",
        "  elif x == 'Horeca':\n",
        "    return 'F & B'\n",
        "  elif x ==  'Machinery & Industrial Parts' :\n",
        "    return 'MRO'\n",
        "  elif x ==  'Building Materials' :\n",
        "    return 'MRO'\n",
        "  elif x == 'Automotive & Trasnportation':\n",
        "    return 'MRO'\n",
        "  elif x == 'Health & Medicare':\n",
        "    return 'Health & Beauty'\n",
        "  elif x == 'Beauty Sport & Fashion':\n",
        "    return 'Health & Beauty'\n",
        "  elif x ==  'Computer & Communication':\n",
        "    return '3C & Others'\n",
        "  else:\n",
        "    return x== '3C & Others'\n",
        "\n",
        "df['segment_category'] = df['cat_name'].apply(format_val2)"
      ],
      "metadata": {
        "id": "2G1nseiSvk5f"
      },
      "execution_count": null,
      "outputs": []
    },
    {
      "cell_type": "code",
      "source": [
        "df['refund_status'] = df['rejected_datetime'].apply(lambda x: 'refund' if pd.notnull(x) else 'not refund')"
      ],
      "metadata": {
        "id": "Lodc38fVxvVK"
      },
      "execution_count": null,
      "outputs": []
    },
    {
      "cell_type": "markdown",
      "source": [
        "# Exploratory Data Analysis"
      ],
      "metadata": {
        "id": "JE0pLo0mz--L"
      }
    },
    {
      "cell_type": "markdown",
      "source": [
        "RFM adalah Salah satu teknik yang dapat digunakan untuk melakukan Customer Segmentation untuk mengetahui buying behavior dari customer. Arti dari RFM sendiri adalah:\n",
        "\n",
        "Recency: Waktu terakhir kali customer melakukan pembelian\n",
        "\n",
        "Frequency: Jumlah transaksi\n",
        "\n",
        "Monetary: Kekuatan belanja dari sebuah customer\n",
        "\n",
        "Dengan menggunakan RFM, perusahaan dapat mengaktifkan kembali customer yang jarang bertransaksi, membuat customer menjadi lebih loyal, menigkatkan strategi marketing sehingga dapat meningkatkan revenue dari sebuah perusahaan.\n",
        "\n",
        "\n",
        "Untuk Recency, dilihat dari waktu terakhir dari column order_datetime.\n",
        "\n",
        "Frequency dibuat dari jumlah order yang dibuat customer.\n",
        "\n",
        "Monetary dibuat dari rata-rata gmv per bulan customer"
      ],
      "metadata": {
        "id": "1dFX7q291oZ_"
      }
    },
    {
      "cell_type": "code",
      "source": [
        "#Mencari distribusi rfm\n",
        "user = df.groupby('user_id', as_index=False).agg(\n",
        "    recency =  ('order_datetime', lambda x: (df['order_datetime'].max()-x.max()).days),\n",
        "    frequency = ('order_id', lambda x: x.nunique()),\n",
        "    monetary =  ('gmv_1', 'sum'),\n",
        ")\n",
        "df_rfm = pd.DataFrame(user)\n",
        "df_rfm"
      ],
      "metadata": {
        "id": "BE8fKJtO04q_",
        "colab": {
          "base_uri": "https://localhost:8080/",
          "height": 424
        },
        "outputId": "d4bf8189-1698-4c57-fedd-5aa540003a1a"
      },
      "execution_count": null,
      "outputs": [
        {
          "data": {
            "text/html": [
              "\n",
              "  <div id=\"df-ab10c44d-a849-40d3-9513-6b0cabb4f7ba\">\n",
              "    <div class=\"colab-df-container\">\n",
              "      <div>\n",
              "<style scoped>\n",
              "    .dataframe tbody tr th:only-of-type {\n",
              "        vertical-align: middle;\n",
              "    }\n",
              "\n",
              "    .dataframe tbody tr th {\n",
              "        vertical-align: top;\n",
              "    }\n",
              "\n",
              "    .dataframe thead th {\n",
              "        text-align: right;\n",
              "    }\n",
              "</style>\n",
              "<table border=\"1\" class=\"dataframe\">\n",
              "  <thead>\n",
              "    <tr style=\"text-align: right;\">\n",
              "      <th></th>\n",
              "      <th>user_id</th>\n",
              "      <th>recency</th>\n",
              "      <th>frequency</th>\n",
              "      <th>monetary</th>\n",
              "    </tr>\n",
              "  </thead>\n",
              "  <tbody>\n",
              "    <tr>\n",
              "      <th>0</th>\n",
              "      <td>++8t6Li0yZ89vefY/yWarbOKL50ljj3QcobdDn6n78Y=</td>\n",
              "      <td>989</td>\n",
              "      <td>7</td>\n",
              "      <td>5991500000452300</td>\n",
              "    </tr>\n",
              "    <tr>\n",
              "      <th>1</th>\n",
              "      <td>++IyDjM6tKXtuoWX1Qg0yGNd2BAOTzhtjrpZvNy2JAY=</td>\n",
              "      <td>331</td>\n",
              "      <td>4</td>\n",
              "      <td>4970025250000</td>\n",
              "    </tr>\n",
              "    <tr>\n",
              "      <th>2</th>\n",
              "      <td>++Qu2pueGIjaldctVcX7+6/pX1fJn3iSXzHqdCw6zUo=</td>\n",
              "      <td>1107</td>\n",
              "      <td>1</td>\n",
              "      <td>98000000</td>\n",
              "    </tr>\n",
              "    <tr>\n",
              "      <th>3</th>\n",
              "      <td>++tVxwvop+KSlBLSKp0xr5CkDN4rYQGKDx+rqQMI21M=</td>\n",
              "      <td>1364</td>\n",
              "      <td>1</td>\n",
              "      <td>540000</td>\n",
              "    </tr>\n",
              "    <tr>\n",
              "      <th>4</th>\n",
              "      <td>+/bchMIO0gQwrfG4slyith6d7DEsg7lknEDY8IJWp04=</td>\n",
              "      <td>885</td>\n",
              "      <td>1</td>\n",
              "      <td>250000</td>\n",
              "    </tr>\n",
              "    <tr>\n",
              "      <th>...</th>\n",
              "      <td>...</td>\n",
              "      <td>...</td>\n",
              "      <td>...</td>\n",
              "      <td>...</td>\n",
              "    </tr>\n",
              "    <tr>\n",
              "      <th>17500</th>\n",
              "      <td>zynXSX7VL+kDNpULpBvLB8rFBvYo3DqV2lhMNBs9v0I=</td>\n",
              "      <td>76</td>\n",
              "      <td>1</td>\n",
              "      <td>330000</td>\n",
              "    </tr>\n",
              "    <tr>\n",
              "      <th>17501</th>\n",
              "      <td>zytUaJ61YyHDfQr18+sVhRPN1UEbzmjUangA2GyU69Y=</td>\n",
              "      <td>1423</td>\n",
              "      <td>1</td>\n",
              "      <td>500000</td>\n",
              "    </tr>\n",
              "    <tr>\n",
              "      <th>17502</th>\n",
              "      <td>zyuzrr04JUkcwJWJkXCZBdwWj/0iDWdKChNaQoBgkOE=</td>\n",
              "      <td>638</td>\n",
              "      <td>3</td>\n",
              "      <td>14240000000000</td>\n",
              "    </tr>\n",
              "    <tr>\n",
              "      <th>17503</th>\n",
              "      <td>zywj5AT9blbwOZhOPNAgrztXUt5XkGZsf8q3LlMruOE=</td>\n",
              "      <td>630</td>\n",
              "      <td>1</td>\n",
              "      <td>2040000</td>\n",
              "    </tr>\n",
              "    <tr>\n",
              "      <th>17504</th>\n",
              "      <td>zz4dX2WO5QX75tGaAbrroyDn2x9tKNbCCzvfSBO3lDw=</td>\n",
              "      <td>922</td>\n",
              "      <td>1</td>\n",
              "      <td>100000</td>\n",
              "    </tr>\n",
              "  </tbody>\n",
              "</table>\n",
              "<p>17505 rows × 4 columns</p>\n",
              "</div>\n",
              "      <button class=\"colab-df-convert\" onclick=\"convertToInteractive('df-ab10c44d-a849-40d3-9513-6b0cabb4f7ba')\"\n",
              "              title=\"Convert this dataframe to an interactive table.\"\n",
              "              style=\"display:none;\">\n",
              "        \n",
              "  <svg xmlns=\"http://www.w3.org/2000/svg\" height=\"24px\"viewBox=\"0 0 24 24\"\n",
              "       width=\"24px\">\n",
              "    <path d=\"M0 0h24v24H0V0z\" fill=\"none\"/>\n",
              "    <path d=\"M18.56 5.44l.94 2.06.94-2.06 2.06-.94-2.06-.94-.94-2.06-.94 2.06-2.06.94zm-11 1L8.5 8.5l.94-2.06 2.06-.94-2.06-.94L8.5 2.5l-.94 2.06-2.06.94zm10 10l.94 2.06.94-2.06 2.06-.94-2.06-.94-.94-2.06-.94 2.06-2.06.94z\"/><path d=\"M17.41 7.96l-1.37-1.37c-.4-.4-.92-.59-1.43-.59-.52 0-1.04.2-1.43.59L10.3 9.45l-7.72 7.72c-.78.78-.78 2.05 0 2.83L4 21.41c.39.39.9.59 1.41.59.51 0 1.02-.2 1.41-.59l7.78-7.78 2.81-2.81c.8-.78.8-2.07 0-2.86zM5.41 20L4 18.59l7.72-7.72 1.47 1.35L5.41 20z\"/>\n",
              "  </svg>\n",
              "      </button>\n",
              "      \n",
              "  <style>\n",
              "    .colab-df-container {\n",
              "      display:flex;\n",
              "      flex-wrap:wrap;\n",
              "      gap: 12px;\n",
              "    }\n",
              "\n",
              "    .colab-df-convert {\n",
              "      background-color: #E8F0FE;\n",
              "      border: none;\n",
              "      border-radius: 50%;\n",
              "      cursor: pointer;\n",
              "      display: none;\n",
              "      fill: #1967D2;\n",
              "      height: 32px;\n",
              "      padding: 0 0 0 0;\n",
              "      width: 32px;\n",
              "    }\n",
              "\n",
              "    .colab-df-convert:hover {\n",
              "      background-color: #E2EBFA;\n",
              "      box-shadow: 0px 1px 2px rgba(60, 64, 67, 0.3), 0px 1px 3px 1px rgba(60, 64, 67, 0.15);\n",
              "      fill: #174EA6;\n",
              "    }\n",
              "\n",
              "    [theme=dark] .colab-df-convert {\n",
              "      background-color: #3B4455;\n",
              "      fill: #D2E3FC;\n",
              "    }\n",
              "\n",
              "    [theme=dark] .colab-df-convert:hover {\n",
              "      background-color: #434B5C;\n",
              "      box-shadow: 0px 1px 3px 1px rgba(0, 0, 0, 0.15);\n",
              "      filter: drop-shadow(0px 1px 2px rgba(0, 0, 0, 0.3));\n",
              "      fill: #FFFFFF;\n",
              "    }\n",
              "  </style>\n",
              "\n",
              "      <script>\n",
              "        const buttonEl =\n",
              "          document.querySelector('#df-ab10c44d-a849-40d3-9513-6b0cabb4f7ba button.colab-df-convert');\n",
              "        buttonEl.style.display =\n",
              "          google.colab.kernel.accessAllowed ? 'block' : 'none';\n",
              "\n",
              "        async function convertToInteractive(key) {\n",
              "          const element = document.querySelector('#df-ab10c44d-a849-40d3-9513-6b0cabb4f7ba');\n",
              "          const dataTable =\n",
              "            await google.colab.kernel.invokeFunction('convertToInteractive',\n",
              "                                                     [key], {});\n",
              "          if (!dataTable) return;\n",
              "\n",
              "          const docLinkHtml = 'Like what you see? Visit the ' +\n",
              "            '<a target=\"_blank\" href=https://colab.research.google.com/notebooks/data_table.ipynb>data table notebook</a>'\n",
              "            + ' to learn more about interactive tables.';\n",
              "          element.innerHTML = '';\n",
              "          dataTable['output_type'] = 'display_data';\n",
              "          await google.colab.output.renderOutput(dataTable, element);\n",
              "          const docLink = document.createElement('div');\n",
              "          docLink.innerHTML = docLinkHtml;\n",
              "          element.appendChild(docLink);\n",
              "        }\n",
              "      </script>\n",
              "    </div>\n",
              "  </div>\n",
              "  "
            ],
            "text/plain": [
              "                                            user_id  recency  frequency  \\\n",
              "0      ++8t6Li0yZ89vefY/yWarbOKL50ljj3QcobdDn6n78Y=      989          7   \n",
              "1      ++IyDjM6tKXtuoWX1Qg0yGNd2BAOTzhtjrpZvNy2JAY=      331          4   \n",
              "2      ++Qu2pueGIjaldctVcX7+6/pX1fJn3iSXzHqdCw6zUo=     1107          1   \n",
              "3      ++tVxwvop+KSlBLSKp0xr5CkDN4rYQGKDx+rqQMI21M=     1364          1   \n",
              "4      +/bchMIO0gQwrfG4slyith6d7DEsg7lknEDY8IJWp04=      885          1   \n",
              "...                                             ...      ...        ...   \n",
              "17500  zynXSX7VL+kDNpULpBvLB8rFBvYo3DqV2lhMNBs9v0I=       76          1   \n",
              "17501  zytUaJ61YyHDfQr18+sVhRPN1UEbzmjUangA2GyU69Y=     1423          1   \n",
              "17502  zyuzrr04JUkcwJWJkXCZBdwWj/0iDWdKChNaQoBgkOE=      638          3   \n",
              "17503  zywj5AT9blbwOZhOPNAgrztXUt5XkGZsf8q3LlMruOE=      630          1   \n",
              "17504  zz4dX2WO5QX75tGaAbrroyDn2x9tKNbCCzvfSBO3lDw=      922          1   \n",
              "\n",
              "               monetary  \n",
              "0      5991500000452300  \n",
              "1         4970025250000  \n",
              "2              98000000  \n",
              "3                540000  \n",
              "4                250000  \n",
              "...                 ...  \n",
              "17500            330000  \n",
              "17501            500000  \n",
              "17502    14240000000000  \n",
              "17503           2040000  \n",
              "17504            100000  \n",
              "\n",
              "[17505 rows x 4 columns]"
            ]
          },
          "execution_count": 23,
          "metadata": {},
          "output_type": "execute_result"
        }
      ]
    },
    {
      "cell_type": "code",
      "source": [
        "#Distribusi recency\n",
        "plt.figure(figsize=(10, 6))\n",
        "sns.displot(df_rfm['recency'], bins=25)\n",
        "plt.title('Recency Distribution', fontsize=18)\n",
        "plt.xlabel('Days since last transactions', fontsize=14)\n",
        "plt.ylabel('Density')\n",
        "plt.show()"
      ],
      "metadata": {
        "colab": {
          "base_uri": "https://localhost:8080/",
          "height": 556
        },
        "id": "Wwtyd5zd1mqx",
        "outputId": "5803e1e1-28df-4593-fe62-5ac0d94bbb1f"
      },
      "execution_count": null,
      "outputs": [
        {
          "data": {
            "text/plain": [
              "<Figure size 1000x600 with 0 Axes>"
            ]
          },
          "metadata": {},
          "output_type": "display_data"
        },
        {
          "data": {
            "image/png": "[encoded data removed]",
            "text/plain": [
              "<Figure size 500x500 with 1 Axes>"
            ]
          },
          "metadata": {},
          "output_type": "display_data"
        }
      ]
    },
    {
      "cell_type": "code",
      "source": [
        "df_rfm['recency'].describe()"
      ],
      "metadata": {
        "colab": {
          "base_uri": "https://localhost:8080/"
        },
        "id": "u2qo6n529ef-",
        "outputId": "f27f3634-093f-4f2d-d346-aede6d41a7aa"
      },
      "execution_count": null,
      "outputs": [
        {
          "data": {
            "text/plain": [
              "count    17505.000000\n",
              "mean       794.856955\n",
              "std        369.143220\n",
              "min          0.000000\n",
              "25%        486.000000\n",
              "50%        921.000000\n",
              "75%       1012.000000\n",
              "max       1460.000000\n",
              "Name: recency, dtype: float64"
            ]
          },
          "execution_count": 25,
          "metadata": {},
          "output_type": "execute_result"
        }
      ]
    },
    {
      "cell_type": "code",
      "source": [
        "df_rfm['recency'].mode()"
      ],
      "metadata": {
        "colab": {
          "base_uri": "https://localhost:8080/"
        },
        "id": "LtWgM4N5f8j3",
        "outputId": "667e50a2-6bd5-4d0e-9d80-807dce0c5859"
      },
      "execution_count": null,
      "outputs": [
        {
          "data": {
            "text/plain": [
              "0    917\n",
              "Name: recency, dtype: int64"
            ]
          },
          "execution_count": 26,
          "metadata": {},
          "output_type": "execute_result"
        }
      ]
    },
    {
      "cell_type": "markdown",
      "source": [
        "Berdasarkan distribusi dan deskripsi dari recency:\n",
        "\n",
        "Waktu terakhir user melakukan transaksi pada rentang 0 hingga 1460 hari (tanggal max dari data), rata-rata user melakukan transaksi pada 794 hari atau sekitar 2 tahun yang lalu. Dan paling banyak user melakukan transaksi sekitar 917 hari atau 2.5 tahun yang lalu."
      ],
      "metadata": {
        "id": "WdJp3HL_efGJ"
      }
    },
    {
      "cell_type": "code",
      "source": [
        "#Distribusi frequency\n",
        "plt.figure(figsize=(10, 6))\n",
        "sns.displot(df_rfm['frequency'], bins=25)\n",
        "plt.title('Frequency Distribution', fontsize=18)\n",
        "plt.xlabel('Total Order', fontsize=14)\n",
        "plt.ylabel('Total User')\n",
        "plt.show()"
      ],
      "metadata": {
        "colab": {
          "base_uri": "https://localhost:8080/",
          "height": 556
        },
        "id": "hnj5UCjE9x_t",
        "outputId": "a06104cb-577e-465a-a84b-88e2b45b8bac"
      },
      "execution_count": null,
      "outputs": [
        {
          "output_type": "display_data",
          "data": {
            "text/plain": [
              "<Figure size 1000x600 with 0 Axes>"
            ]
          },
          "metadata": {}
        },
        {
          "output_type": "display_data",
          "data": {
            "text/plain": [
              "<Figure size 500x500 with 1 Axes>"
            ],
            "image/png": "[encoded data removed]"
          },
          "metadata": {}
        }
      ]
    },
    {
      "cell_type": "code",
      "source": [
        "df_rfm['frequency'].describe()"
      ],
      "metadata": {
        "colab": {
          "base_uri": "https://localhost:8080/"
        },
        "id": "D6no4oolgjTA",
        "outputId": "fdad9368-6401-4897-f7cd-0f43faebb63a"
      },
      "execution_count": null,
      "outputs": [
        {
          "output_type": "execute_result",
          "data": {
            "text/plain": [
              "count    17505.000000\n",
              "mean         2.062668\n",
              "std          5.877920\n",
              "min          1.000000\n",
              "25%          1.000000\n",
              "50%          1.000000\n",
              "75%          2.000000\n",
              "max        182.000000\n",
              "Name: frequency, dtype: float64"
            ]
          },
          "metadata": {},
          "execution_count": 28
        }
      ]
    },
    {
      "cell_type": "code",
      "source": [
        "df_rfm['frequency'].mode()"
      ],
      "metadata": {
        "colab": {
          "base_uri": "https://localhost:8080/"
        },
        "id": "13v_KclFg6m6",
        "outputId": "f7631e6d-e008-4d94-9a69-6eb4979e68fb"
      },
      "execution_count": null,
      "outputs": [
        {
          "output_type": "execute_result",
          "data": {
            "text/plain": [
              "0    1\n",
              "Name: frequency, dtype: int64"
            ]
          },
          "metadata": {},
          "execution_count": 29
        }
      ]
    },
    {
      "cell_type": "markdown",
      "source": [
        "Berdasarkan distribusi dan deskripsi dari frequency:\n",
        "\n",
        "Rata-rata user melakukan pembelian sebanyak 2 kali pada"
      ],
      "metadata": {
        "id": "J-CvsaoLhFdx"
      }
    },
    {
      "cell_type": "code",
      "source": [
        "# Distribusi monetary\n",
        "plt.figure(figsize=(10, 6))\n",
        "sns.displot(user['monetary'], bins=25)\n",
        "plt.title('Total Transactions by Customers', fontsize=18)\n",
        "plt.xlabel('Transactions Value', fontsize=14)\n",
        "plt.show()"
      ],
      "metadata": {
        "id": "hSsZlKs1-a87",
        "colab": {
          "base_uri": "https://localhost:8080/",
          "height": 556
        },
        "outputId": "d2284b6c-0f78-43ce-b090-5657c52e610a"
      },
      "execution_count": null,
      "outputs": [
        {
          "output_type": "display_data",
          "data": {
            "text/plain": [
              "<Figure size 1000x600 with 0 Axes>"
            ]
          },
          "metadata": {}
        },
        {
          "output_type": "display_data",
          "data": {
            "text/plain": [
              "<Figure size 500x500 with 1 Axes>"
            ],
            "image/png": "[encoded data removed]"
          },
          "metadata": {}
        }
      ]
    },
    {
      "cell_type": "markdown",
      "metadata": {
        "id": "Gvbag9HIKA7d"
      },
      "source": [
        "# RFM Analysis"
      ]
    },
    {
      "cell_type": "code",
      "source": [
        "#Pengelompokan segmentasi\n",
        "\n",
        "#Segmantasi recency\n",
        "def segment_recency(col):\n",
        "  if col >= pd.Timestamp('2018-01-01', tz='UTC') and col<= pd.Timestamp('2018-12-31', tz='UTC'):\n",
        "    return \"1\"\n",
        "  elif col >= pd.Timestamp('2019-01-01', tz='UTC') and col<= pd.Timestamp('2019-12-31', tz='UTC'):\n",
        "    return \"2\"\n",
        "  elif col >= pd.Timestamp('2020-01-01', tz='UTC') and col<= pd.Timestamp('2020-12-31', tz='UTC'):\n",
        "    return \"3\"\n",
        "  elif col >= pd.Timestamp('2021-01-01', tz='UTC') and col<= pd.Timestamp('2021-12-31', tz='UTC'):\n",
        "    return \"4\"\n",
        "  elif col >= pd.Timestamp('2022-01-01', tz='UTC') and col<= pd.Timestamp('2022-12-31', tz='UTC'):\n",
        "    return \"5\"\n",
        "\n",
        "#Segmentasi frequency\n",
        "def segment_frequency(col):\n",
        "  if col <= 6:\n",
        "    return \"1\"\n",
        "  elif col > 6 and col <= 12:\n",
        "    return \"2\"\n",
        "  elif col > 12 and col <= 24:\n",
        "    return \"3\"\n",
        "  elif col > 24 and col <= 36:\n",
        "    return \"4\"\n",
        "  else:\n",
        "    return \"5\"\n",
        "\n",
        "#Segmentasi monetary\n",
        "def segment_monetary(col):\n",
        "  if col > 100000000:\n",
        "    return \"5\"\n",
        "  elif col >= 50000000 and col<= 100000000:\n",
        "    return \"4\"\n",
        "  elif col >= 10000000 and col<= 50000000:\n",
        "    return \"3\"\n",
        "  elif col >= 5000000 and col<= 10000000:\n",
        "    return \"2\"\n",
        "  elif col<5000000:\n",
        "    return \"1\""
      ],
      "metadata": {
        "id": "IOGbo3KTLXDK"
      },
      "execution_count": null,
      "outputs": []
    },
    {
      "cell_type": "markdown",
      "source": [
        "## Recency"
      ],
      "metadata": {
        "id": "6o9bazbAccI-"
      }
    },
    {
      "cell_type": "code",
      "source": [
        "#Melakukan pengurutan berdasarkan user_id dan order_datetime secara menurun\n",
        "df_sorted = df.sort_values(by=['user_id', 'order_datetime'], ascending=[True, False])"
      ],
      "metadata": {
        "id": "eXPP1Npa2Qis"
      },
      "execution_count": null,
      "outputs": []
    },
    {
      "cell_type": "code",
      "source": [
        "#Mengelompokkan berdasarkan user_id dan mengambil baris pertama untuk setiap kelompok\n",
        "df_grouped = df_sorted.groupby('user_id').first().reset_index()"
      ],
      "metadata": {
        "id": "bwW2dG34Y8oR"
      },
      "execution_count": null,
      "outputs": []
    },
    {
      "cell_type": "code",
      "source": [
        "#Mengubah tipe data kolom 'order_datetime' menjadi datetime\n",
        "df_grouped['order_datetime'] = pd.to_datetime(df_grouped['order_datetime'])"
      ],
      "metadata": {
        "id": "k3DhzlJlZBTg"
      },
      "execution_count": null,
      "outputs": []
    },
    {
      "cell_type": "code",
      "source": [
        "#Mengurutkan DataFrame hasil berdasarkan order_datetime secara menurun\n",
        "df_result = df_grouped.sort_values(by='order_datetime', ascending=False)\n",
        "df_result.head()"
      ],
      "metadata": {
        "colab": {
          "base_uri": "https://localhost:8080/",
          "height": 461
        },
        "id": "IJVepxIEdDP-",
        "outputId": "51740044-2c47-4763-975b-fe1ff75e9bf6"
      },
      "execution_count": null,
      "outputs": [
        {
          "output_type": "execute_result",
          "data": {
            "text/plain": [
              "                                            user_id  \\\n",
              "6419   LXBLFS0B5ILfeZqBcUsTxmbtHTxf+pm7baWVZRZ6UX8=   \n",
              "5410   HrwFzsZ1zuM353NMdWwSgubbaWfLNVZOZo4cH5D04DM=   \n",
              "12459  hkl1h0J7bi8/dtcyVjOhfJ9nbuYaC5jUawvuUP4/JYI=   \n",
              "4827   FfvnOIwxOQL3hPbWpxRL4vb6sTrtmHituZPS6i8iiOU=   \n",
              "15190  rkOLa0IqQqu2sVDFWLPoElI7YRJKpfxXUzyx1IniVig=   \n",
              "\n",
              "                                           order_id   order_source  \\\n",
              "6419   NJTXFSPVnoaXholIyjlketCQRH4nxwamCVxDgurXehk=  99. Program A   \n",
              "5410   uu7bIsv8/K8YEazu077Bn+3M0rvmDoaIbEQmHocL1kY=  99. Program A   \n",
              "12459  SnzicI3l5vwncEe+2FKs62mb5bG9lRcoJYjOjF6RmSs=  99. Program A   \n",
              "4827   iNLGXfB09c2UgxEcM61cddEMHljr+lMwfTEZMwCXFYQ=  99. Program A   \n",
              "15190  1UtqlZycwLDNUDvHtNWR5pnR6ScvSuvLArXltcHrwmo=  99. Program A   \n",
              "\n",
              "                           cat_name            order_datetime  \\\n",
              "6419             Agriculture & Food 2022-07-01 16:16:10+00:00   \n",
              "5410   Machinery & Industrial Parts 2022-07-01 16:13:23+00:00   \n",
              "12459  Machinery & Industrial Parts 2022-07-01 16:05:52+00:00   \n",
              "4827        Beauty, Sport & Fashion 2022-07-01 15:34:19+00:00   \n",
              "15190       Beauty, Sport & Fashion 2022-07-01 14:47:28+00:00   \n",
              "\n",
              "      rejected_datetime platform_source  user_last_login_datetime  \\\n",
              "6419                NaT         website 2023-02-21 08:33:53+00:00   \n",
              "5410                NaT         website 2023-02-21 08:43:16+00:00   \n",
              "12459               NaT         website 2023-02-21 08:46:37+00:00   \n",
              "4827                NaT         website 2023-02-21 08:41:05+00:00   \n",
              "15190               NaT         website 2023-02-21 08:33:11+00:00   \n",
              "\n",
              "         user_register_datetime          gmv_1          channels  \\\n",
              "6419  2021-09-03 09:31:00+00:00       71100000  Prospect Program   \n",
              "5410  2021-09-03 09:28:30+00:00       45000000  Prospect Program   \n",
              "12459 2021-09-03 08:49:33+00:00  7810000000000  Prospect Program   \n",
              "4827  2021-09-01 03:03:27+00:00       47000000  Prospect Program   \n",
              "15190 2021-09-03 09:26:22+00:00       58500000  Prospect Program   \n",
              "\n",
              "      segment_category refund_status  \n",
              "6419             F & B    not refund  \n",
              "5410               MRO    not refund  \n",
              "12459              MRO    not refund  \n",
              "4827             False    not refund  \n",
              "15190            False    not refund  "
            ],
            "text/html": [
              "\n",
              "  <div id=\"df-ab6e47fd-24d7-42bd-ac2d-2d1982dd877a\">\n",
              "    <div class=\"colab-df-container\">\n",
              "      <div>\n",
              "<style scoped>\n",
              "    .dataframe tbody tr th:only-of-type {\n",
              "        vertical-align: middle;\n",
              "    }\n",
              "\n",
              "    .dataframe tbody tr th {\n",
              "        vertical-align: top;\n",
              "    }\n",
              "\n",
              "    .dataframe thead th {\n",
              "        text-align: right;\n",
              "    }\n",
              "</style>\n",
              "<table border=\"1\" class=\"dataframe\">\n",
              "  <thead>\n",
              "    <tr style=\"text-align: right;\">\n",
              "      <th></th>\n",
              "      <th>user_id</th>\n",
              "      <th>order_id</th>\n",
              "      <th>order_source</th>\n",
              "      <th>cat_name</th>\n",
              "      <th>order_datetime</th>\n",
              "      <th>rejected_datetime</th>\n",
              "      <th>platform_source</th>\n",
              "      <th>user_last_login_datetime</th>\n",
              "      <th>user_register_datetime</th>\n",
              "      <th>gmv_1</th>\n",
              "      <th>channels</th>\n",
              "      <th>segment_category</th>\n",
              "      <th>refund_status</th>\n",
              "    </tr>\n",
              "  </thead>\n",
              "  <tbody>\n",
              "    <tr>\n",
              "      <th>6419</th>\n",
              "      <td>LXBLFS0B5ILfeZqBcUsTxmbtHTxf+pm7baWVZRZ6UX8=</td>\n",
              "      <td>NJTXFSPVnoaXholIyjlketCQRH4nxwamCVxDgurXehk=</td>\n",
              "      <td>99. Program A</td>\n",
              "      <td>Agriculture &amp; Food</td>\n",
              "      <td>2022-07-01 16:16:10+00:00</td>\n",
              "      <td>NaT</td>\n",
              "      <td>website</td>\n",
              "      <td>2023-02-21 08:33:53+00:00</td>\n",
              "      <td>2021-09-03 09:31:00+00:00</td>\n",
              "      <td>71100000</td>\n",
              "      <td>Prospect Program</td>\n",
              "      <td>F &amp; B</td>\n",
              "      <td>not refund</td>\n",
              "    </tr>\n",
              "    <tr>\n",
              "      <th>5410</th>\n",
              "      <td>HrwFzsZ1zuM353NMdWwSgubbaWfLNVZOZo4cH5D04DM=</td>\n",
              "      <td>uu7bIsv8/K8YEazu077Bn+3M0rvmDoaIbEQmHocL1kY=</td>\n",
              "      <td>99. Program A</td>\n",
              "      <td>Machinery &amp; Industrial Parts</td>\n",
              "      <td>2022-07-01 16:13:23+00:00</td>\n",
              "      <td>NaT</td>\n",
              "      <td>website</td>\n",
              "      <td>2023-02-21 08:43:16+00:00</td>\n",
              "      <td>2021-09-03 09:28:30+00:00</td>\n",
              "      <td>45000000</td>\n",
              "      <td>Prospect Program</td>\n",
              "      <td>MRO</td>\n",
              "      <td>not refund</td>\n",
              "    </tr>\n",
              "    <tr>\n",
              "      <th>12459</th>\n",
              "      <td>hkl1h0J7bi8/dtcyVjOhfJ9nbuYaC5jUawvuUP4/JYI=</td>\n",
              "      <td>SnzicI3l5vwncEe+2FKs62mb5bG9lRcoJYjOjF6RmSs=</td>\n",
              "      <td>99. Program A</td>\n",
              "      <td>Machinery &amp; Industrial Parts</td>\n",
              "      <td>2022-07-01 16:05:52+00:00</td>\n",
              "      <td>NaT</td>\n",
              "      <td>website</td>\n",
              "      <td>2023-02-21 08:46:37+00:00</td>\n",
              "      <td>2021-09-03 08:49:33+00:00</td>\n",
              "      <td>7810000000000</td>\n",
              "      <td>Prospect Program</td>\n",
              "      <td>MRO</td>\n",
              "      <td>not refund</td>\n",
              "    </tr>\n",
              "    <tr>\n",
              "      <th>4827</th>\n",
              "      <td>FfvnOIwxOQL3hPbWpxRL4vb6sTrtmHituZPS6i8iiOU=</td>\n",
              "      <td>iNLGXfB09c2UgxEcM61cddEMHljr+lMwfTEZMwCXFYQ=</td>\n",
              "      <td>99. Program A</td>\n",
              "      <td>Beauty, Sport &amp; Fashion</td>\n",
              "      <td>2022-07-01 15:34:19+00:00</td>\n",
              "      <td>NaT</td>\n",
              "      <td>website</td>\n",
              "      <td>2023-02-21 08:41:05+00:00</td>\n",
              "      <td>2021-09-01 03:03:27+00:00</td>\n",
              "      <td>47000000</td>\n",
              "      <td>Prospect Program</td>\n",
              "      <td>False</td>\n",
              "      <td>not refund</td>\n",
              "    </tr>\n",
              "    <tr>\n",
              "      <th>15190</th>\n",
              "      <td>rkOLa0IqQqu2sVDFWLPoElI7YRJKpfxXUzyx1IniVig=</td>\n",
              "      <td>1UtqlZycwLDNUDvHtNWR5pnR6ScvSuvLArXltcHrwmo=</td>\n",
              "      <td>99. Program A</td>\n",
              "      <td>Beauty, Sport &amp; Fashion</td>\n",
              "      <td>2022-07-01 14:47:28+00:00</td>\n",
              "      <td>NaT</td>\n",
              "      <td>website</td>\n",
              "      <td>2023-02-21 08:33:11+00:00</td>\n",
              "      <td>2021-09-03 09:26:22+00:00</td>\n",
              "      <td>58500000</td>\n",
              "      <td>Prospect Program</td>\n",
              "      <td>False</td>\n",
              "      <td>not refund</td>\n",
              "    </tr>\n",
              "  </tbody>\n",
              "</table>\n",
              "</div>\n",
              "      <button class=\"colab-df-convert\" onclick=\"convertToInteractive('df-ab6e47fd-24d7-42bd-ac2d-2d1982dd877a')\"\n",
              "              title=\"Convert this dataframe to an interactive table.\"\n",
              "              style=\"display:none;\">\n",
              "        \n",
              "  <svg xmlns=\"http://www.w3.org/2000/svg\" height=\"24px\"viewBox=\"0 0 24 24\"\n",
              "       width=\"24px\">\n",
              "    <path d=\"M0 0h24v24H0V0z\" fill=\"none\"/>\n",
              "    <path d=\"M18.56 5.44l.94 2.06.94-2.06 2.06-.94-2.06-.94-.94-2.06-.94 2.06-2.06.94zm-11 1L8.5 8.5l.94-2.06 2.06-.94-2.06-.94L8.5 2.5l-.94 2.06-2.06.94zm10 10l.94 2.06.94-2.06 2.06-.94-2.06-.94-.94-2.06-.94 2.06-2.06.94z\"/><path d=\"M17.41 7.96l-1.37-1.37c-.4-.4-.92-.59-1.43-.59-.52 0-1.04.2-1.43.59L10.3 9.45l-7.72 7.72c-.78.78-.78 2.05 0 2.83L4 21.41c.39.39.9.59 1.41.59.51 0 1.02-.2 1.41-.59l7.78-7.78 2.81-2.81c.8-.78.8-2.07 0-2.86zM5.41 20L4 18.59l7.72-7.72 1.47 1.35L5.41 20z\"/>\n",
              "  </svg>\n",
              "      </button>\n",
              "      \n",
              "  <style>\n",
              "    .colab-df-container {\n",
              "      display:flex;\n",
              "      flex-wrap:wrap;\n",
              "      gap: 12px;\n",
              "    }\n",
              "\n",
              "    .colab-df-convert {\n",
              "      background-color: #E8F0FE;\n",
              "      border: none;\n",
              "      border-radius: 50%;\n",
              "      cursor: pointer;\n",
              "      display: none;\n",
              "      fill: #1967D2;\n",
              "      height: 32px;\n",
              "      padding: 0 0 0 0;\n",
              "      width: 32px;\n",
              "    }\n",
              "\n",
              "    .colab-df-convert:hover {\n",
              "      background-color: #E2EBFA;\n",
              "      box-shadow: 0px 1px 2px rgba(60, 64, 67, 0.3), 0px 1px 3px 1px rgba(60, 64, 67, 0.15);\n",
              "      fill: #174EA6;\n",
              "    }\n",
              "\n",
              "    [theme=dark] .colab-df-convert {\n",
              "      background-color: #3B4455;\n",
              "      fill: #D2E3FC;\n",
              "    }\n",
              "\n",
              "    [theme=dark] .colab-df-convert:hover {\n",
              "      background-color: #434B5C;\n",
              "      box-shadow: 0px 1px 3px 1px rgba(0, 0, 0, 0.15);\n",
              "      filter: drop-shadow(0px 1px 2px rgba(0, 0, 0, 0.3));\n",
              "      fill: #FFFFFF;\n",
              "    }\n",
              "  </style>\n",
              "\n",
              "      <script>\n",
              "        const buttonEl =\n",
              "          document.querySelector('#df-ab6e47fd-24d7-42bd-ac2d-2d1982dd877a button.colab-df-convert');\n",
              "        buttonEl.style.display =\n",
              "          google.colab.kernel.accessAllowed ? 'block' : 'none';\n",
              "\n",
              "        async function convertToInteractive(key) {\n",
              "          const element = document.querySelector('#df-ab6e47fd-24d7-42bd-ac2d-2d1982dd877a');\n",
              "          const dataTable =\n",
              "            await google.colab.kernel.invokeFunction('convertToInteractive',\n",
              "                                                     [key], {});\n",
              "          if (!dataTable) return;\n",
              "\n",
              "          const docLinkHtml = 'Like what you see? Visit the ' +\n",
              "            '<a target=\"_blank\" href=https://colab.research.google.com/notebooks/data_table.ipynb>data table notebook</a>'\n",
              "            + ' to learn more about interactive tables.';\n",
              "          element.innerHTML = '';\n",
              "          dataTable['output_type'] = 'display_data';\n",
              "          await google.colab.output.renderOutput(dataTable, element);\n",
              "          const docLink = document.createElement('div');\n",
              "          docLink.innerHTML = docLinkHtml;\n",
              "          element.appendChild(docLink);\n",
              "        }\n",
              "      </script>\n",
              "    </div>\n",
              "  </div>\n",
              "  "
            ]
          },
          "metadata": {},
          "execution_count": 35
        }
      ]
    },
    {
      "cell_type": "code",
      "source": [
        "#Menambahkan kolom \"segment_recency\" ke DataFrame df_result\n",
        "df_result['segment_recency'] = df_result['order_datetime'].apply(segment_recency)\n",
        "df_recency = df_result[['user_id', 'order_datetime', 'segment_recency']]\n",
        "df_recency.head()"
      ],
      "metadata": {
        "colab": {
          "base_uri": "https://localhost:8080/",
          "height": 206
        },
        "id": "_-J6aylYa7zq",
        "outputId": "e555d448-4e73-4ffa-e46b-313754aaaa88"
      },
      "execution_count": null,
      "outputs": [
        {
          "output_type": "execute_result",
          "data": {
            "text/plain": [
              "                                            user_id            order_datetime  \\\n",
              "6419   LXBLFS0B5ILfeZqBcUsTxmbtHTxf+pm7baWVZRZ6UX8= 2022-07-01 16:16:10+00:00   \n",
              "5410   HrwFzsZ1zuM353NMdWwSgubbaWfLNVZOZo4cH5D04DM= 2022-07-01 16:13:23+00:00   \n",
              "12459  hkl1h0J7bi8/dtcyVjOhfJ9nbuYaC5jUawvuUP4/JYI= 2022-07-01 16:05:52+00:00   \n",
              "4827   FfvnOIwxOQL3hPbWpxRL4vb6sTrtmHituZPS6i8iiOU= 2022-07-01 15:34:19+00:00   \n",
              "15190  rkOLa0IqQqu2sVDFWLPoElI7YRJKpfxXUzyx1IniVig= 2022-07-01 14:47:28+00:00   \n",
              "\n",
              "      segment_recency  \n",
              "6419                5  \n",
              "5410                5  \n",
              "12459               5  \n",
              "4827                5  \n",
              "15190               5  "
            ],
            "text/html": [
              "\n",
              "  <div id=\"df-64795e75-4a80-4dfd-8b19-0b480f41eefc\">\n",
              "    <div class=\"colab-df-container\">\n",
              "      <div>\n",
              "<style scoped>\n",
              "    .dataframe tbody tr th:only-of-type {\n",
              "        vertical-align: middle;\n",
              "    }\n",
              "\n",
              "    .dataframe tbody tr th {\n",
              "        vertical-align: top;\n",
              "    }\n",
              "\n",
              "    .dataframe thead th {\n",
              "        text-align: right;\n",
              "    }\n",
              "</style>\n",
              "<table border=\"1\" class=\"dataframe\">\n",
              "  <thead>\n",
              "    <tr style=\"text-align: right;\">\n",
              "      <th></th>\n",
              "      <th>user_id</th>\n",
              "      <th>order_datetime</th>\n",
              "      <th>segment_recency</th>\n",
              "    </tr>\n",
              "  </thead>\n",
              "  <tbody>\n",
              "    <tr>\n",
              "      <th>6419</th>\n",
              "      <td>LXBLFS0B5ILfeZqBcUsTxmbtHTxf+pm7baWVZRZ6UX8=</td>\n",
              "      <td>2022-07-01 16:16:10+00:00</td>\n",
              "      <td>5</td>\n",
              "    </tr>\n",
              "    <tr>\n",
              "      <th>5410</th>\n",
              "      <td>HrwFzsZ1zuM353NMdWwSgubbaWfLNVZOZo4cH5D04DM=</td>\n",
              "      <td>2022-07-01 16:13:23+00:00</td>\n",
              "      <td>5</td>\n",
              "    </tr>\n",
              "    <tr>\n",
              "      <th>12459</th>\n",
              "      <td>hkl1h0J7bi8/dtcyVjOhfJ9nbuYaC5jUawvuUP4/JYI=</td>\n",
              "      <td>2022-07-01 16:05:52+00:00</td>\n",
              "      <td>5</td>\n",
              "    </tr>\n",
              "    <tr>\n",
              "      <th>4827</th>\n",
              "      <td>FfvnOIwxOQL3hPbWpxRL4vb6sTrtmHituZPS6i8iiOU=</td>\n",
              "      <td>2022-07-01 15:34:19+00:00</td>\n",
              "      <td>5</td>\n",
              "    </tr>\n",
              "    <tr>\n",
              "      <th>15190</th>\n",
              "      <td>rkOLa0IqQqu2sVDFWLPoElI7YRJKpfxXUzyx1IniVig=</td>\n",
              "      <td>2022-07-01 14:47:28+00:00</td>\n",
              "      <td>5</td>\n",
              "    </tr>\n",
              "  </tbody>\n",
              "</table>\n",
              "</div>\n",
              "      <button class=\"colab-df-convert\" onclick=\"convertToInteractive('df-64795e75-4a80-4dfd-8b19-0b480f41eefc')\"\n",
              "              title=\"Convert this dataframe to an interactive table.\"\n",
              "              style=\"display:none;\">\n",
              "        \n",
              "  <svg xmlns=\"http://www.w3.org/2000/svg\" height=\"24px\"viewBox=\"0 0 24 24\"\n",
              "       width=\"24px\">\n",
              "    <path d=\"M0 0h24v24H0V0z\" fill=\"none\"/>\n",
              "    <path d=\"M18.56 5.44l.94 2.06.94-2.06 2.06-.94-2.06-.94-.94-2.06-.94 2.06-2.06.94zm-11 1L8.5 8.5l.94-2.06 2.06-.94-2.06-.94L8.5 2.5l-.94 2.06-2.06.94zm10 10l.94 2.06.94-2.06 2.06-.94-2.06-.94-.94-2.06-.94 2.06-2.06.94z\"/><path d=\"M17.41 7.96l-1.37-1.37c-.4-.4-.92-.59-1.43-.59-.52 0-1.04.2-1.43.59L10.3 9.45l-7.72 7.72c-.78.78-.78 2.05 0 2.83L4 21.41c.39.39.9.59 1.41.59.51 0 1.02-.2 1.41-.59l7.78-7.78 2.81-2.81c.8-.78.8-2.07 0-2.86zM5.41 20L4 18.59l7.72-7.72 1.47 1.35L5.41 20z\"/>\n",
              "  </svg>\n",
              "      </button>\n",
              "      \n",
              "  <style>\n",
              "    .colab-df-container {\n",
              "      display:flex;\n",
              "      flex-wrap:wrap;\n",
              "      gap: 12px;\n",
              "    }\n",
              "\n",
              "    .colab-df-convert {\n",
              "      background-color: #E8F0FE;\n",
              "      border: none;\n",
              "      border-radius: 50%;\n",
              "      cursor: pointer;\n",
              "      display: none;\n",
              "      fill: #1967D2;\n",
              "      height: 32px;\n",
              "      padding: 0 0 0 0;\n",
              "      width: 32px;\n",
              "    }\n",
              "\n",
              "    .colab-df-convert:hover {\n",
              "      background-color: #E2EBFA;\n",
              "      box-shadow: 0px 1px 2px rgba(60, 64, 67, 0.3), 0px 1px 3px 1px rgba(60, 64, 67, 0.15);\n",
              "      fill: #174EA6;\n",
              "    }\n",
              "\n",
              "    [theme=dark] .colab-df-convert {\n",
              "      background-color: #3B4455;\n",
              "      fill: #D2E3FC;\n",
              "    }\n",
              "\n",
              "    [theme=dark] .colab-df-convert:hover {\n",
              "      background-color: #434B5C;\n",
              "      box-shadow: 0px 1px 3px 1px rgba(0, 0, 0, 0.15);\n",
              "      filter: drop-shadow(0px 1px 2px rgba(0, 0, 0, 0.3));\n",
              "      fill: #FFFFFF;\n",
              "    }\n",
              "  </style>\n",
              "\n",
              "      <script>\n",
              "        const buttonEl =\n",
              "          document.querySelector('#df-64795e75-4a80-4dfd-8b19-0b480f41eefc button.colab-df-convert');\n",
              "        buttonEl.style.display =\n",
              "          google.colab.kernel.accessAllowed ? 'block' : 'none';\n",
              "\n",
              "        async function convertToInteractive(key) {\n",
              "          const element = document.querySelector('#df-64795e75-4a80-4dfd-8b19-0b480f41eefc');\n",
              "          const dataTable =\n",
              "            await google.colab.kernel.invokeFunction('convertToInteractive',\n",
              "                                                     [key], {});\n",
              "          if (!dataTable) return;\n",
              "\n",
              "          const docLinkHtml = 'Like what you see? Visit the ' +\n",
              "            '<a target=\"_blank\" href=https://colab.research.google.com/notebooks/data_table.ipynb>data table notebook</a>'\n",
              "            + ' to learn more about interactive tables.';\n",
              "          element.innerHTML = '';\n",
              "          dataTable['output_type'] = 'display_data';\n",
              "          await google.colab.output.renderOutput(dataTable, element);\n",
              "          const docLink = document.createElement('div');\n",
              "          docLink.innerHTML = docLinkHtml;\n",
              "          element.appendChild(docLink);\n",
              "        }\n",
              "      </script>\n",
              "    </div>\n",
              "  </div>\n",
              "  "
            ]
          },
          "metadata": {},
          "execution_count": 36
        }
      ]
    },
    {
      "cell_type": "code",
      "source": [
        "df_recency['segment_recency'].value_counts()"
      ],
      "metadata": {
        "id": "rqS1znXYI0J8",
        "colab": {
          "base_uri": "https://localhost:8080/"
        },
        "outputId": "5abf763e-7a25-4d4a-cedc-0dd1d83ff952"
      },
      "execution_count": null,
      "outputs": [
        {
          "output_type": "execute_result",
          "data": {
            "text/plain": [
              "2    8059\n",
              "3    3317\n",
              "4    2887\n",
              "5    1774\n",
              "1    1368\n",
              "Name: segment_recency, dtype: int64"
            ]
          },
          "metadata": {},
          "execution_count": 37
        }
      ]
    },
    {
      "cell_type": "markdown",
      "source": [
        "**Keterangan :**\n",
        "\n",
        "1 : Jika last order custimer dilakukan pada tahun 2018 dan sebelumnya\n",
        "\n",
        "2 : Jika last order custimer dilakukan pada tahun 2019\n",
        "\n",
        "3 : Jika last order custimer dilakukan pada tahun 2020\n",
        "\n",
        "4 : Jika last order custimer dilakukan pada tahun 2021\n",
        "\n",
        "5 : Jika last order custimer dilakukan pada tahun 2022\n",
        "\n",
        "\n",
        "**Berdasarkan nilai frequency-nya. Terdapat 5 segmen yaitu:**\n",
        "\n",
        "1 : Terdapat 1368 customer dengan last order pada tahun 2018 dan sebelumnya\n",
        "\n",
        "2 : Terdapat 8059 customer dengan last order pada tahun 2019\n",
        "\n",
        "3 : Terdapat 3317 customer dengan last order pada tahun 2020\n",
        "\n",
        "4 : Terdapat 2887 customer dengan last order pada tahun 2021\n",
        "\n",
        "5 : Terdapat 1774 customer dengan last order pada tahun 2022\n",
        "\n",
        "*Maka bisa disimpulkan bahwa mayoritas customer Ralali berada pada segmen 2, yang artinya customer melakukan last order pada tahun 2019*"
      ],
      "metadata": {
        "id": "Y55cd9qLIuz4"
      }
    },
    {
      "cell_type": "markdown",
      "source": [
        "## Frequency"
      ],
      "metadata": {
        "id": "OfDSUrQ6dezO"
      }
    },
    {
      "cell_type": "code",
      "source": [
        "#Melakukan seleksi pada DataFrame df dengan kondisi rejected_datetime IS NULL\n",
        "df = df[df['rejected_datetime'].isnull()]"
      ],
      "metadata": {
        "id": "A-Wbz7DD0wnQ"
      },
      "execution_count": null,
      "outputs": []
    },
    {
      "cell_type": "code",
      "source": [
        "#Menghitung jumlah order_id berdasarkan user_id menggunakan groupby\n",
        "df_grouped = df.groupby('user_id').agg(total_order=('order_id', 'count')).reset_index()"
      ],
      "metadata": {
        "id": "wnQDLoLBn-YQ"
      },
      "execution_count": null,
      "outputs": []
    },
    {
      "cell_type": "code",
      "source": [
        "#Mengurutkan hasil berdasarkan jumlah terbanyak (total_order) secara menurun\n",
        "df_sorted = df_grouped.sort_values(by='total_order', ascending=False)"
      ],
      "metadata": {
        "id": "7ZhsX67EoTXd"
      },
      "execution_count": null,
      "outputs": []
    },
    {
      "cell_type": "code",
      "source": [
        "df_sorted['segment_frequency'] = df_sorted['total_order'].apply(segment_frequency)\n",
        "df_frequency = df_sorted[['user_id', 'total_order', 'segment_frequency']]\n",
        "df_frequency.head()"
      ],
      "metadata": {
        "colab": {
          "base_uri": "https://localhost:8080/",
          "height": 206
        },
        "id": "OCDseebufo0Z",
        "outputId": "fc6fa679-07cf-4ccc-f764-21f59302bcb0"
      },
      "execution_count": null,
      "outputs": [
        {
          "output_type": "execute_result",
          "data": {
            "text/plain": [
              "                                            user_id  total_order  \\\n",
              "8298   T5fs/I07KJ/lJjmFriHNU+q34hIJvqMNE6W+YpsVTTA=          182   \n",
              "1728   4NGSSxa5sqZJ+4I6e9i4sjNyGONdJoSJt6lOYWhKxfM=          155   \n",
              "1951   5D9+BctQpkfVHUPeoj11zGqxGu6s9WrMA0egWu73o+w=          151   \n",
              "6317   LkiZe9rJDROHn4V0n98SNDkTm/GrqOzKgqIhpfnX3IA=          143   \n",
              "15956  vw8w8wSPeLRksZr/jrW8BMPou/Vj6rX8FKZ8SXjR3FY=          142   \n",
              "\n",
              "      segment_frequency  \n",
              "8298                  5  \n",
              "1728                  5  \n",
              "1951                  5  \n",
              "6317                  5  \n",
              "15956                 5  "
            ],
            "text/html": [
              "\n",
              "  <div id=\"df-e565972d-e8ff-4a82-b38c-6f0c50b9b626\">\n",
              "    <div class=\"colab-df-container\">\n",
              "      <div>\n",
              "<style scoped>\n",
              "    .dataframe tbody tr th:only-of-type {\n",
              "        vertical-align: middle;\n",
              "    }\n",
              "\n",
              "    .dataframe tbody tr th {\n",
              "        vertical-align: top;\n",
              "    }\n",
              "\n",
              "    .dataframe thead th {\n",
              "        text-align: right;\n",
              "    }\n",
              "</style>\n",
              "<table border=\"1\" class=\"dataframe\">\n",
              "  <thead>\n",
              "    <tr style=\"text-align: right;\">\n",
              "      <th></th>\n",
              "      <th>user_id</th>\n",
              "      <th>total_order</th>\n",
              "      <th>segment_frequency</th>\n",
              "    </tr>\n",
              "  </thead>\n",
              "  <tbody>\n",
              "    <tr>\n",
              "      <th>8298</th>\n",
              "      <td>T5fs/I07KJ/lJjmFriHNU+q34hIJvqMNE6W+YpsVTTA=</td>\n",
              "      <td>182</td>\n",
              "      <td>5</td>\n",
              "    </tr>\n",
              "    <tr>\n",
              "      <th>1728</th>\n",
              "      <td>4NGSSxa5sqZJ+4I6e9i4sjNyGONdJoSJt6lOYWhKxfM=</td>\n",
              "      <td>155</td>\n",
              "      <td>5</td>\n",
              "    </tr>\n",
              "    <tr>\n",
              "      <th>1951</th>\n",
              "      <td>5D9+BctQpkfVHUPeoj11zGqxGu6s9WrMA0egWu73o+w=</td>\n",
              "      <td>151</td>\n",
              "      <td>5</td>\n",
              "    </tr>\n",
              "    <tr>\n",
              "      <th>6317</th>\n",
              "      <td>LkiZe9rJDROHn4V0n98SNDkTm/GrqOzKgqIhpfnX3IA=</td>\n",
              "      <td>143</td>\n",
              "      <td>5</td>\n",
              "    </tr>\n",
              "    <tr>\n",
              "      <th>15956</th>\n",
              "      <td>vw8w8wSPeLRksZr/jrW8BMPou/Vj6rX8FKZ8SXjR3FY=</td>\n",
              "      <td>142</td>\n",
              "      <td>5</td>\n",
              "    </tr>\n",
              "  </tbody>\n",
              "</table>\n",
              "</div>\n",
              "      <button class=\"colab-df-convert\" onclick=\"convertToInteractive('df-e565972d-e8ff-4a82-b38c-6f0c50b9b626')\"\n",
              "              title=\"Convert this dataframe to an interactive table.\"\n",
              "              style=\"display:none;\">\n",
              "        \n",
              "  <svg xmlns=\"http://www.w3.org/2000/svg\" height=\"24px\"viewBox=\"0 0 24 24\"\n",
              "       width=\"24px\">\n",
              "    <path d=\"M0 0h24v24H0V0z\" fill=\"none\"/>\n",
              "    <path d=\"M18.56 5.44l.94 2.06.94-2.06 2.06-.94-2.06-.94-.94-2.06-.94 2.06-2.06.94zm-11 1L8.5 8.5l.94-2.06 2.06-.94-2.06-.94L8.5 2.5l-.94 2.06-2.06.94zm10 10l.94 2.06.94-2.06 2.06-.94-2.06-.94-.94-2.06-.94 2.06-2.06.94z\"/><path d=\"M17.41 7.96l-1.37-1.37c-.4-.4-.92-.59-1.43-.59-.52 0-1.04.2-1.43.59L10.3 9.45l-7.72 7.72c-.78.78-.78 2.05 0 2.83L4 21.41c.39.39.9.59 1.41.59.51 0 1.02-.2 1.41-.59l7.78-7.78 2.81-2.81c.8-.78.8-2.07 0-2.86zM5.41 20L4 18.59l7.72-7.72 1.47 1.35L5.41 20z\"/>\n",
              "  </svg>\n",
              "      </button>\n",
              "      \n",
              "  <style>\n",
              "    .colab-df-container {\n",
              "      display:flex;\n",
              "      flex-wrap:wrap;\n",
              "      gap: 12px;\n",
              "    }\n",
              "\n",
              "    .colab-df-convert {\n",
              "      background-color: #E8F0FE;\n",
              "      border: none;\n",
              "      border-radius: 50%;\n",
              "      cursor: pointer;\n",
              "      display: none;\n",
              "      fill: #1967D2;\n",
              "      height: 32px;\n",
              "      padding: 0 0 0 0;\n",
              "      width: 32px;\n",
              "    }\n",
              "\n",
              "    .colab-df-convert:hover {\n",
              "      background-color: #E2EBFA;\n",
              "      box-shadow: 0px 1px 2px rgba(60, 64, 67, 0.3), 0px 1px 3px 1px rgba(60, 64, 67, 0.15);\n",
              "      fill: #174EA6;\n",
              "    }\n",
              "\n",
              "    [theme=dark] .colab-df-convert {\n",
              "      background-color: #3B4455;\n",
              "      fill: #D2E3FC;\n",
              "    }\n",
              "\n",
              "    [theme=dark] .colab-df-convert:hover {\n",
              "      background-color: #434B5C;\n",
              "      box-shadow: 0px 1px 3px 1px rgba(0, 0, 0, 0.15);\n",
              "      filter: drop-shadow(0px 1px 2px rgba(0, 0, 0, 0.3));\n",
              "      fill: #FFFFFF;\n",
              "    }\n",
              "  </style>\n",
              "\n",
              "      <script>\n",
              "        const buttonEl =\n",
              "          document.querySelector('#df-e565972d-e8ff-4a82-b38c-6f0c50b9b626 button.colab-df-convert');\n",
              "        buttonEl.style.display =\n",
              "          google.colab.kernel.accessAllowed ? 'block' : 'none';\n",
              "\n",
              "        async function convertToInteractive(key) {\n",
              "          const element = document.querySelector('#df-e565972d-e8ff-4a82-b38c-6f0c50b9b626');\n",
              "          const dataTable =\n",
              "            await google.colab.kernel.invokeFunction('convertToInteractive',\n",
              "                                                     [key], {});\n",
              "          if (!dataTable) return;\n",
              "\n",
              "          const docLinkHtml = 'Like what you see? Visit the ' +\n",
              "            '<a target=\"_blank\" href=https://colab.research.google.com/notebooks/data_table.ipynb>data table notebook</a>'\n",
              "            + ' to learn more about interactive tables.';\n",
              "          element.innerHTML = '';\n",
              "          dataTable['output_type'] = 'display_data';\n",
              "          await google.colab.output.renderOutput(dataTable, element);\n",
              "          const docLink = document.createElement('div');\n",
              "          docLink.innerHTML = docLinkHtml;\n",
              "          element.appendChild(docLink);\n",
              "        }\n",
              "      </script>\n",
              "    </div>\n",
              "  </div>\n",
              "  "
            ]
          },
          "metadata": {},
          "execution_count": 41
        }
      ]
    },
    {
      "cell_type": "code",
      "source": [
        "df_frequency['segment_frequency'].value_counts()"
      ],
      "metadata": {
        "id": "tscfoAveFVtS",
        "colab": {
          "base_uri": "https://localhost:8080/"
        },
        "outputId": "cc79a73b-49da-4ac2-dc94-5fb9d25352cd"
      },
      "execution_count": null,
      "outputs": [
        {
          "output_type": "execute_result",
          "data": {
            "text/plain": [
              "1    16490\n",
              "2      437\n",
              "3       91\n",
              "5       52\n",
              "4       15\n",
              "Name: segment_frequency, dtype: int64"
            ]
          },
          "metadata": {},
          "execution_count": 42
        }
      ]
    },
    {
      "cell_type": "markdown",
      "source": [
        "**Keterangan :**\n",
        "\n",
        "1 : Jika frequensi melakukan transaksi <= 6\n",
        "\n",
        "2 : Jika frequensi melakukan transaksi antara 7-12 kali\n",
        "\n",
        "3 : Jika frequensi melakukan transaksi antara 13-24 kali\n",
        "\n",
        "4 : Jika frequensi melakukan transaksi antara 25-36 kali\n",
        "\n",
        "5 : Jika frequensi melakukan transaksi lebih dari 36 kali\n",
        "\n",
        "\n",
        "**Berdasarkan nilai frequency-nya. Terdapat 5 segmen yaitu:**\n",
        "\n",
        "1 : Terdapat 16490 customer yang melakukan <=6 kali transaksi\n",
        "\n",
        "2 : Terdapat 437 customer yang melakukan transaksi sebanyak 7-12 kali.\n",
        "\n",
        "3 : Terdapat 91 customer yang melakukan transaksi sebanyak 13-24 kali\n",
        "\n",
        "4 : Terdapat 15 customer yang melakukan transaksi sebanyak 25-36 kali\n",
        "\n",
        "5 : Terdapat 53 customer yang melakukan transaksi sebanyak lebih dari 36 kali\n",
        "\n",
        "*Maka bisa disimpulkan bahwa mayoritas customer Ralali berada pada segmen 1, yang artinya hanya melakukan transaksi <= 6 kali saja*"
      ],
      "metadata": {
        "id": "hvRGo8-4FC-_"
      }
    },
    {
      "cell_type": "markdown",
      "source": [
        "## Monetary"
      ],
      "metadata": {
        "id": "AGlBtc92f0mk"
      }
    },
    {
      "cell_type": "code",
      "execution_count": null,
      "metadata": {
        "id": "Y72gIUlWKFa8"
      },
      "outputs": [],
      "source": [
        "#Melakukan seleksi pada DataFrame df dengan kondisi rejected_datetime IS NULL\n",
        "df = df[df['rejected_datetime'].isnull()]"
      ]
    },
    {
      "cell_type": "code",
      "source": [
        "#Menghitung rata-rata gmv_1 berdasarkan user_id dan Month_of_order menggunakan groupby\n",
        "df_grouped = df.groupby(['user_id', pd.Grouper(key='order_datetime', freq='M')]).agg({'gmv_1': 'mean'}).reset_index()\n",
        "df_grouped"
      ],
      "metadata": {
        "colab": {
          "base_uri": "https://localhost:8080/",
          "height": 424
        },
        "id": "elFpbLu_rv0m",
        "outputId": "47c10daf-ec1c-4e44-b6a6-3b0ade7b80b2"
      },
      "execution_count": null,
      "outputs": [
        {
          "output_type": "execute_result",
          "data": {
            "text/plain": [
              "                                            user_id            order_datetime  \\\n",
              "0      ++8t6Li0yZ89vefY/yWarbOKL50ljj3QcobdDn6n78Y= 2019-02-28 00:00:00+00:00   \n",
              "1      ++8t6Li0yZ89vefY/yWarbOKL50ljj3QcobdDn6n78Y= 2019-05-31 00:00:00+00:00   \n",
              "2      ++8t6Li0yZ89vefY/yWarbOKL50ljj3QcobdDn6n78Y= 2019-07-31 00:00:00+00:00   \n",
              "3      ++8t6Li0yZ89vefY/yWarbOKL50ljj3QcobdDn6n78Y= 2019-09-30 00:00:00+00:00   \n",
              "4      ++8t6Li0yZ89vefY/yWarbOKL50ljj3QcobdDn6n78Y= 2019-10-31 00:00:00+00:00   \n",
              "...                                             ...                       ...   \n",
              "26557  zynXSX7VL+kDNpULpBvLB8rFBvYo3DqV2lhMNBs9v0I= 2022-04-30 00:00:00+00:00   \n",
              "26558  zyuzrr04JUkcwJWJkXCZBdwWj/0iDWdKChNaQoBgkOE= 2019-07-31 00:00:00+00:00   \n",
              "26559  zyuzrr04JUkcwJWJkXCZBdwWj/0iDWdKChNaQoBgkOE= 2020-09-30 00:00:00+00:00   \n",
              "26560  zywj5AT9blbwOZhOPNAgrztXUt5XkGZsf8q3LlMruOE= 2020-10-31 00:00:00+00:00   \n",
              "26561  zz4dX2WO5QX75tGaAbrroyDn2x9tKNbCCzvfSBO3lDw= 2019-12-31 00:00:00+00:00   \n",
              "\n",
              "              gmv_1  \n",
              "0      1.770000e+14  \n",
              "1      2.440000e+13  \n",
              "2      5.940000e+14  \n",
              "3      2.515000e+15  \n",
              "4      8.305000e+13  \n",
              "...             ...  \n",
              "26557  3.300000e+05  \n",
              "26558  9.700000e+12  \n",
              "26559  2.270000e+12  \n",
              "26560  2.040000e+06  \n",
              "26561  1.000000e+05  \n",
              "\n",
              "[26562 rows x 3 columns]"
            ],
            "text/html": [
              "\n",
              "  <div id=\"df-d79be379-0b37-4f79-aebd-1c9977a0614d\">\n",
              "    <div class=\"colab-df-container\">\n",
              "      <div>\n",
              "<style scoped>\n",
              "    .dataframe tbody tr th:only-of-type {\n",
              "        vertical-align: middle;\n",
              "    }\n",
              "\n",
              "    .dataframe tbody tr th {\n",
              "        vertical-align: top;\n",
              "    }\n",
              "\n",
              "    .dataframe thead th {\n",
              "        text-align: right;\n",
              "    }\n",
              "</style>\n",
              "<table border=\"1\" class=\"dataframe\">\n",
              "  <thead>\n",
              "    <tr style=\"text-align: right;\">\n",
              "      <th></th>\n",
              "      <th>user_id</th>\n",
              "      <th>order_datetime</th>\n",
              "      <th>gmv_1</th>\n",
              "    </tr>\n",
              "  </thead>\n",
              "  <tbody>\n",
              "    <tr>\n",
              "      <th>0</th>\n",
              "      <td>++8t6Li0yZ89vefY/yWarbOKL50ljj3QcobdDn6n78Y=</td>\n",
              "      <td>2019-02-28 00:00:00+00:00</td>\n",
              "      <td>1.770000e+14</td>\n",
              "    </tr>\n",
              "    <tr>\n",
              "      <th>1</th>\n",
              "      <td>++8t6Li0yZ89vefY/yWarbOKL50ljj3QcobdDn6n78Y=</td>\n",
              "      <td>2019-05-31 00:00:00+00:00</td>\n",
              "      <td>2.440000e+13</td>\n",
              "    </tr>\n",
              "    <tr>\n",
              "      <th>2</th>\n",
              "      <td>++8t6Li0yZ89vefY/yWarbOKL50ljj3QcobdDn6n78Y=</td>\n",
              "      <td>2019-07-31 00:00:00+00:00</td>\n",
              "      <td>5.940000e+14</td>\n",
              "    </tr>\n",
              "    <tr>\n",
              "      <th>3</th>\n",
              "      <td>++8t6Li0yZ89vefY/yWarbOKL50ljj3QcobdDn6n78Y=</td>\n",
              "      <td>2019-09-30 00:00:00+00:00</td>\n",
              "      <td>2.515000e+15</td>\n",
              "    </tr>\n",
              "    <tr>\n",
              "      <th>4</th>\n",
              "      <td>++8t6Li0yZ89vefY/yWarbOKL50ljj3QcobdDn6n78Y=</td>\n",
              "      <td>2019-10-31 00:00:00+00:00</td>\n",
              "      <td>8.305000e+13</td>\n",
              "    </tr>\n",
              "    <tr>\n",
              "      <th>...</th>\n",
              "      <td>...</td>\n",
              "      <td>...</td>\n",
              "      <td>...</td>\n",
              "    </tr>\n",
              "    <tr>\n",
              "      <th>26557</th>\n",
              "      <td>zynXSX7VL+kDNpULpBvLB8rFBvYo3DqV2lhMNBs9v0I=</td>\n",
              "      <td>2022-04-30 00:00:00+00:00</td>\n",
              "      <td>3.300000e+05</td>\n",
              "    </tr>\n",
              "    <tr>\n",
              "      <th>26558</th>\n",
              "      <td>zyuzrr04JUkcwJWJkXCZBdwWj/0iDWdKChNaQoBgkOE=</td>\n",
              "      <td>2019-07-31 00:00:00+00:00</td>\n",
              "      <td>9.700000e+12</td>\n",
              "    </tr>\n",
              "    <tr>\n",
              "      <th>26559</th>\n",
              "      <td>zyuzrr04JUkcwJWJkXCZBdwWj/0iDWdKChNaQoBgkOE=</td>\n",
              "      <td>2020-09-30 00:00:00+00:00</td>\n",
              "      <td>2.270000e+12</td>\n",
              "    </tr>\n",
              "    <tr>\n",
              "      <th>26560</th>\n",
              "      <td>zywj5AT9blbwOZhOPNAgrztXUt5XkGZsf8q3LlMruOE=</td>\n",
              "      <td>2020-10-31 00:00:00+00:00</td>\n",
              "      <td>2.040000e+06</td>\n",
              "    </tr>\n",
              "    <tr>\n",
              "      <th>26561</th>\n",
              "      <td>zz4dX2WO5QX75tGaAbrroyDn2x9tKNbCCzvfSBO3lDw=</td>\n",
              "      <td>2019-12-31 00:00:00+00:00</td>\n",
              "      <td>1.000000e+05</td>\n",
              "    </tr>\n",
              "  </tbody>\n",
              "</table>\n",
              "<p>26562 rows × 3 columns</p>\n",
              "</div>\n",
              "      <button class=\"colab-df-convert\" onclick=\"convertToInteractive('df-d79be379-0b37-4f79-aebd-1c9977a0614d')\"\n",
              "              title=\"Convert this dataframe to an interactive table.\"\n",
              "              style=\"display:none;\">\n",
              "        \n",
              "  <svg xmlns=\"http://www.w3.org/2000/svg\" height=\"24px\"viewBox=\"0 0 24 24\"\n",
              "       width=\"24px\">\n",
              "    <path d=\"M0 0h24v24H0V0z\" fill=\"none\"/>\n",
              "    <path d=\"M18.56 5.44l.94 2.06.94-2.06 2.06-.94-2.06-.94-.94-2.06-.94 2.06-2.06.94zm-11 1L8.5 8.5l.94-2.06 2.06-.94-2.06-.94L8.5 2.5l-.94 2.06-2.06.94zm10 10l.94 2.06.94-2.06 2.06-.94-2.06-.94-.94-2.06-.94 2.06-2.06.94z\"/><path d=\"M17.41 7.96l-1.37-1.37c-.4-.4-.92-.59-1.43-.59-.52 0-1.04.2-1.43.59L10.3 9.45l-7.72 7.72c-.78.78-.78 2.05 0 2.83L4 21.41c.39.39.9.59 1.41.59.51 0 1.02-.2 1.41-.59l7.78-7.78 2.81-2.81c.8-.78.8-2.07 0-2.86zM5.41 20L4 18.59l7.72-7.72 1.47 1.35L5.41 20z\"/>\n",
              "  </svg>\n",
              "      </button>\n",
              "      \n",
              "  <style>\n",
              "    .colab-df-container {\n",
              "      display:flex;\n",
              "      flex-wrap:wrap;\n",
              "      gap: 12px;\n",
              "    }\n",
              "\n",
              "    .colab-df-convert {\n",
              "      background-color: #E8F0FE;\n",
              "      border: none;\n",
              "      border-radius: 50%;\n",
              "      cursor: pointer;\n",
              "      display: none;\n",
              "      fill: #1967D2;\n",
              "      height: 32px;\n",
              "      padding: 0 0 0 0;\n",
              "      width: 32px;\n",
              "    }\n",
              "\n",
              "    .colab-df-convert:hover {\n",
              "      background-color: #E2EBFA;\n",
              "      box-shadow: 0px 1px 2px rgba(60, 64, 67, 0.3), 0px 1px 3px 1px rgba(60, 64, 67, 0.15);\n",
              "      fill: #174EA6;\n",
              "    }\n",
              "\n",
              "    [theme=dark] .colab-df-convert {\n",
              "      background-color: #3B4455;\n",
              "      fill: #D2E3FC;\n",
              "    }\n",
              "\n",
              "    [theme=dark] .colab-df-convert:hover {\n",
              "      background-color: #434B5C;\n",
              "      box-shadow: 0px 1px 3px 1px rgba(0, 0, 0, 0.15);\n",
              "      filter: drop-shadow(0px 1px 2px rgba(0, 0, 0, 0.3));\n",
              "      fill: #FFFFFF;\n",
              "    }\n",
              "  </style>\n",
              "\n",
              "      <script>\n",
              "        const buttonEl =\n",
              "          document.querySelector('#df-d79be379-0b37-4f79-aebd-1c9977a0614d button.colab-df-convert');\n",
              "        buttonEl.style.display =\n",
              "          google.colab.kernel.accessAllowed ? 'block' : 'none';\n",
              "\n",
              "        async function convertToInteractive(key) {\n",
              "          const element = document.querySelector('#df-d79be379-0b37-4f79-aebd-1c9977a0614d');\n",
              "          const dataTable =\n",
              "            await google.colab.kernel.invokeFunction('convertToInteractive',\n",
              "                                                     [key], {});\n",
              "          if (!dataTable) return;\n",
              "\n",
              "          const docLinkHtml = 'Like what you see? Visit the ' +\n",
              "            '<a target=\"_blank\" href=https://colab.research.google.com/notebooks/data_table.ipynb>data table notebook</a>'\n",
              "            + ' to learn more about interactive tables.';\n",
              "          element.innerHTML = '';\n",
              "          dataTable['output_type'] = 'display_data';\n",
              "          await google.colab.output.renderOutput(dataTable, element);\n",
              "          const docLink = document.createElement('div');\n",
              "          docLink.innerHTML = docLinkHtml;\n",
              "          element.appendChild(docLink);\n",
              "        }\n",
              "      </script>\n",
              "    </div>\n",
              "  </div>\n",
              "  "
            ]
          },
          "metadata": {},
          "execution_count": 44
        }
      ]
    },
    {
      "cell_type": "code",
      "source": [
        "#Menghitung rata-rata gmv_1 bulanan berdasarkan user_id menggunakan groupby\n",
        "df_monthly_avg = df_grouped.groupby('user_id').agg({'gmv_1': 'mean'}).reset_index()\n",
        "df_monthly_avg"
      ],
      "metadata": {
        "colab": {
          "base_uri": "https://localhost:8080/",
          "height": 424
        },
        "id": "drxKh-1esTED",
        "outputId": "214a5667-7050-4dc8-9d88-5fa0a6933e37"
      },
      "execution_count": null,
      "outputs": [
        {
          "output_type": "execute_result",
          "data": {
            "text/plain": [
              "                                            user_id         gmv_1\n",
              "0      ++8t6Li0yZ89vefY/yWarbOKL50ljj3QcobdDn6n78Y=  6.786900e+14\n",
              "1      ++IyDjM6tKXtuoWX1Qg0yGNd2BAOTzhtjrpZvNy2JAY=  1.242506e+12\n",
              "2      ++Qu2pueGIjaldctVcX7+6/pX1fJn3iSXzHqdCw6zUo=  9.800000e+07\n",
              "3      ++tVxwvop+KSlBLSKp0xr5CkDN4rYQGKDx+rqQMI21M=  5.400000e+05\n",
              "4      +/bchMIO0gQwrfG4slyith6d7DEsg7lknEDY8IJWp04=  2.500000e+05\n",
              "...                                             ...           ...\n",
              "17080  zySiC/HPRf9AdhDIwQamizFnrNkIpTojLTi5T0xi6ls=  3.356150e+07\n",
              "17081  zynXSX7VL+kDNpULpBvLB8rFBvYo3DqV2lhMNBs9v0I=  3.300000e+05\n",
              "17082  zyuzrr04JUkcwJWJkXCZBdwWj/0iDWdKChNaQoBgkOE=  5.985000e+12\n",
              "17083  zywj5AT9blbwOZhOPNAgrztXUt5XkGZsf8q3LlMruOE=  2.040000e+06\n",
              "17084  zz4dX2WO5QX75tGaAbrroyDn2x9tKNbCCzvfSBO3lDw=  1.000000e+05\n",
              "\n",
              "[17085 rows x 2 columns]"
            ],
            "text/html": [
              "\n",
              "  <div id=\"df-4bf5f246-31a1-4597-a972-47732e5496bc\">\n",
              "    <div class=\"colab-df-container\">\n",
              "      <div>\n",
              "<style scoped>\n",
              "    .dataframe tbody tr th:only-of-type {\n",
              "        vertical-align: middle;\n",
              "    }\n",
              "\n",
              "    .dataframe tbody tr th {\n",
              "        vertical-align: top;\n",
              "    }\n",
              "\n",
              "    .dataframe thead th {\n",
              "        text-align: right;\n",
              "    }\n",
              "</style>\n",
              "<table border=\"1\" class=\"dataframe\">\n",
              "  <thead>\n",
              "    <tr style=\"text-align: right;\">\n",
              "      <th></th>\n",
              "      <th>user_id</th>\n",
              "      <th>gmv_1</th>\n",
              "    </tr>\n",
              "  </thead>\n",
              "  <tbody>\n",
              "    <tr>\n",
              "      <th>0</th>\n",
              "      <td>++8t6Li0yZ89vefY/yWarbOKL50ljj3QcobdDn6n78Y=</td>\n",
              "      <td>6.786900e+14</td>\n",
              "    </tr>\n",
              "    <tr>\n",
              "      <th>1</th>\n",
              "      <td>++IyDjM6tKXtuoWX1Qg0yGNd2BAOTzhtjrpZvNy2JAY=</td>\n",
              "      <td>1.242506e+12</td>\n",
              "    </tr>\n",
              "    <tr>\n",
              "      <th>2</th>\n",
              "      <td>++Qu2pueGIjaldctVcX7+6/pX1fJn3iSXzHqdCw6zUo=</td>\n",
              "      <td>9.800000e+07</td>\n",
              "    </tr>\n",
              "    <tr>\n",
              "      <th>3</th>\n",
              "      <td>++tVxwvop+KSlBLSKp0xr5CkDN4rYQGKDx+rqQMI21M=</td>\n",
              "      <td>5.400000e+05</td>\n",
              "    </tr>\n",
              "    <tr>\n",
              "      <th>4</th>\n",
              "      <td>+/bchMIO0gQwrfG4slyith6d7DEsg7lknEDY8IJWp04=</td>\n",
              "      <td>2.500000e+05</td>\n",
              "    </tr>\n",
              "    <tr>\n",
              "      <th>...</th>\n",
              "      <td>...</td>\n",
              "      <td>...</td>\n",
              "    </tr>\n",
              "    <tr>\n",
              "      <th>17080</th>\n",
              "      <td>zySiC/HPRf9AdhDIwQamizFnrNkIpTojLTi5T0xi6ls=</td>\n",
              "      <td>3.356150e+07</td>\n",
              "    </tr>\n",
              "    <tr>\n",
              "      <th>17081</th>\n",
              "      <td>zynXSX7VL+kDNpULpBvLB8rFBvYo3DqV2lhMNBs9v0I=</td>\n",
              "      <td>3.300000e+05</td>\n",
              "    </tr>\n",
              "    <tr>\n",
              "      <th>17082</th>\n",
              "      <td>zyuzrr04JUkcwJWJkXCZBdwWj/0iDWdKChNaQoBgkOE=</td>\n",
              "      <td>5.985000e+12</td>\n",
              "    </tr>\n",
              "    <tr>\n",
              "      <th>17083</th>\n",
              "      <td>zywj5AT9blbwOZhOPNAgrztXUt5XkGZsf8q3LlMruOE=</td>\n",
              "      <td>2.040000e+06</td>\n",
              "    </tr>\n",
              "    <tr>\n",
              "      <th>17084</th>\n",
              "      <td>zz4dX2WO5QX75tGaAbrroyDn2x9tKNbCCzvfSBO3lDw=</td>\n",
              "      <td>1.000000e+05</td>\n",
              "    </tr>\n",
              "  </tbody>\n",
              "</table>\n",
              "<p>17085 rows × 2 columns</p>\n",
              "</div>\n",
              "      <button class=\"colab-df-convert\" onclick=\"convertToInteractive('df-4bf5f246-31a1-4597-a972-47732e5496bc')\"\n",
              "              title=\"Convert this dataframe to an interactive table.\"\n",
              "              style=\"display:none;\">\n",
              "        \n",
              "  <svg xmlns=\"http://www.w3.org/2000/svg\" height=\"24px\"viewBox=\"0 0 24 24\"\n",
              "       width=\"24px\">\n",
              "    <path d=\"M0 0h24v24H0V0z\" fill=\"none\"/>\n",
              "    <path d=\"M18.56 5.44l.94 2.06.94-2.06 2.06-.94-2.06-.94-.94-2.06-.94 2.06-2.06.94zm-11 1L8.5 8.5l.94-2.06 2.06-.94-2.06-.94L8.5 2.5l-.94 2.06-2.06.94zm10 10l.94 2.06.94-2.06 2.06-.94-2.06-.94-.94-2.06-.94 2.06-2.06.94z\"/><path d=\"M17.41 7.96l-1.37-1.37c-.4-.4-.92-.59-1.43-.59-.52 0-1.04.2-1.43.59L10.3 9.45l-7.72 7.72c-.78.78-.78 2.05 0 2.83L4 21.41c.39.39.9.59 1.41.59.51 0 1.02-.2 1.41-.59l7.78-7.78 2.81-2.81c.8-.78.8-2.07 0-2.86zM5.41 20L4 18.59l7.72-7.72 1.47 1.35L5.41 20z\"/>\n",
              "  </svg>\n",
              "      </button>\n",
              "      \n",
              "  <style>\n",
              "    .colab-df-container {\n",
              "      display:flex;\n",
              "      flex-wrap:wrap;\n",
              "      gap: 12px;\n",
              "    }\n",
              "\n",
              "    .colab-df-convert {\n",
              "      background-color: #E8F0FE;\n",
              "      border: none;\n",
              "      border-radius: 50%;\n",
              "      cursor: pointer;\n",
              "      display: none;\n",
              "      fill: #1967D2;\n",
              "      height: 32px;\n",
              "      padding: 0 0 0 0;\n",
              "      width: 32px;\n",
              "    }\n",
              "\n",
              "    .colab-df-convert:hover {\n",
              "      background-color: #E2EBFA;\n",
              "      box-shadow: 0px 1px 2px rgba(60, 64, 67, 0.3), 0px 1px 3px 1px rgba(60, 64, 67, 0.15);\n",
              "      fill: #174EA6;\n",
              "    }\n",
              "\n",
              "    [theme=dark] .colab-df-convert {\n",
              "      background-color: #3B4455;\n",
              "      fill: #D2E3FC;\n",
              "    }\n",
              "\n",
              "    [theme=dark] .colab-df-convert:hover {\n",
              "      background-color: #434B5C;\n",
              "      box-shadow: 0px 1px 3px 1px rgba(0, 0, 0, 0.15);\n",
              "      filter: drop-shadow(0px 1px 2px rgba(0, 0, 0, 0.3));\n",
              "      fill: #FFFFFF;\n",
              "    }\n",
              "  </style>\n",
              "\n",
              "      <script>\n",
              "        const buttonEl =\n",
              "          document.querySelector('#df-4bf5f246-31a1-4597-a972-47732e5496bc button.colab-df-convert');\n",
              "        buttonEl.style.display =\n",
              "          google.colab.kernel.accessAllowed ? 'block' : 'none';\n",
              "\n",
              "        async function convertToInteractive(key) {\n",
              "          const element = document.querySelector('#df-4bf5f246-31a1-4597-a972-47732e5496bc');\n",
              "          const dataTable =\n",
              "            await google.colab.kernel.invokeFunction('convertToInteractive',\n",
              "                                                     [key], {});\n",
              "          if (!dataTable) return;\n",
              "\n",
              "          const docLinkHtml = 'Like what you see? Visit the ' +\n",
              "            '<a target=\"_blank\" href=https://colab.research.google.com/notebooks/data_table.ipynb>data table notebook</a>'\n",
              "            + ' to learn more about interactive tables.';\n",
              "          element.innerHTML = '';\n",
              "          dataTable['output_type'] = 'display_data';\n",
              "          await google.colab.output.renderOutput(dataTable, element);\n",
              "          const docLink = document.createElement('div');\n",
              "          docLink.innerHTML = docLinkHtml;\n",
              "          element.appendChild(docLink);\n",
              "        }\n",
              "      </script>\n",
              "    </div>\n",
              "  </div>\n",
              "  "
            ]
          },
          "metadata": {},
          "execution_count": 45
        }
      ]
    },
    {
      "cell_type": "code",
      "source": [
        "#Mengubah nama kolom 'gmv_1' menjadi 'AVG_monthly_gmv'\n",
        "df_monthly_avg.rename(columns={'gmv_1': 'AVG_monthly_gmv'}, inplace=True)"
      ],
      "metadata": {
        "id": "Gx2pckCPsk_d"
      },
      "execution_count": null,
      "outputs": []
    },
    {
      "cell_type": "code",
      "source": [
        "df_monthly_avg['segment_monetary'] = df_monthly_avg['AVG_monthly_gmv'].apply(segment_monetary)\n",
        "df_monetary= df_monthly_avg[['user_id', 'AVG_monthly_gmv', 'segment_monetary']]\n",
        "df_monetary.head()"
      ],
      "metadata": {
        "colab": {
          "base_uri": "https://localhost:8080/",
          "height": 206
        },
        "id": "LKGvBaB3gQuS",
        "outputId": "c9bb2595-856b-4427-9469-23c58cfef56a"
      },
      "execution_count": null,
      "outputs": [
        {
          "output_type": "execute_result",
          "data": {
            "text/plain": [
              "                                        user_id  AVG_monthly_gmv  \\\n",
              "0  ++8t6Li0yZ89vefY/yWarbOKL50ljj3QcobdDn6n78Y=     6.786900e+14   \n",
              "1  ++IyDjM6tKXtuoWX1Qg0yGNd2BAOTzhtjrpZvNy2JAY=     1.242506e+12   \n",
              "2  ++Qu2pueGIjaldctVcX7+6/pX1fJn3iSXzHqdCw6zUo=     9.800000e+07   \n",
              "3  ++tVxwvop+KSlBLSKp0xr5CkDN4rYQGKDx+rqQMI21M=     5.400000e+05   \n",
              "4  +/bchMIO0gQwrfG4slyith6d7DEsg7lknEDY8IJWp04=     2.500000e+05   \n",
              "\n",
              "  segment_monetary  \n",
              "0                5  \n",
              "1                5  \n",
              "2                4  \n",
              "3                1  \n",
              "4                1  "
            ],
            "text/html": [
              "\n",
              "  <div id=\"df-853fd20a-97d6-45ac-99a8-e7bebff1c981\">\n",
              "    <div class=\"colab-df-container\">\n",
              "      <div>\n",
              "<style scoped>\n",
              "    .dataframe tbody tr th:only-of-type {\n",
              "        vertical-align: middle;\n",
              "    }\n",
              "\n",
              "    .dataframe tbody tr th {\n",
              "        vertical-align: top;\n",
              "    }\n",
              "\n",
              "    .dataframe thead th {\n",
              "        text-align: right;\n",
              "    }\n",
              "</style>\n",
              "<table border=\"1\" class=\"dataframe\">\n",
              "  <thead>\n",
              "    <tr style=\"text-align: right;\">\n",
              "      <th></th>\n",
              "      <th>user_id</th>\n",
              "      <th>AVG_monthly_gmv</th>\n",
              "      <th>segment_monetary</th>\n",
              "    </tr>\n",
              "  </thead>\n",
              "  <tbody>\n",
              "    <tr>\n",
              "      <th>0</th>\n",
              "      <td>++8t6Li0yZ89vefY/yWarbOKL50ljj3QcobdDn6n78Y=</td>\n",
              "      <td>6.786900e+14</td>\n",
              "      <td>5</td>\n",
              "    </tr>\n",
              "    <tr>\n",
              "      <th>1</th>\n",
              "      <td>++IyDjM6tKXtuoWX1Qg0yGNd2BAOTzhtjrpZvNy2JAY=</td>\n",
              "      <td>1.242506e+12</td>\n",
              "      <td>5</td>\n",
              "    </tr>\n",
              "    <tr>\n",
              "      <th>2</th>\n",
              "      <td>++Qu2pueGIjaldctVcX7+6/pX1fJn3iSXzHqdCw6zUo=</td>\n",
              "      <td>9.800000e+07</td>\n",
              "      <td>4</td>\n",
              "    </tr>\n",
              "    <tr>\n",
              "      <th>3</th>\n",
              "      <td>++tVxwvop+KSlBLSKp0xr5CkDN4rYQGKDx+rqQMI21M=</td>\n",
              "      <td>5.400000e+05</td>\n",
              "      <td>1</td>\n",
              "    </tr>\n",
              "    <tr>\n",
              "      <th>4</th>\n",
              "      <td>+/bchMIO0gQwrfG4slyith6d7DEsg7lknEDY8IJWp04=</td>\n",
              "      <td>2.500000e+05</td>\n",
              "      <td>1</td>\n",
              "    </tr>\n",
              "  </tbody>\n",
              "</table>\n",
              "</div>\n",
              "      <button class=\"colab-df-convert\" onclick=\"convertToInteractive('df-853fd20a-97d6-45ac-99a8-e7bebff1c981')\"\n",
              "              title=\"Convert this dataframe to an interactive table.\"\n",
              "              style=\"display:none;\">\n",
              "        \n",
              "  <svg xmlns=\"http://www.w3.org/2000/svg\" height=\"24px\"viewBox=\"0 0 24 24\"\n",
              "       width=\"24px\">\n",
              "    <path d=\"M0 0h24v24H0V0z\" fill=\"none\"/>\n",
              "    <path d=\"M18.56 5.44l.94 2.06.94-2.06 2.06-.94-2.06-.94-.94-2.06-.94 2.06-2.06.94zm-11 1L8.5 8.5l.94-2.06 2.06-.94-2.06-.94L8.5 2.5l-.94 2.06-2.06.94zm10 10l.94 2.06.94-2.06 2.06-.94-2.06-.94-.94-2.06-.94 2.06-2.06.94z\"/><path d=\"M17.41 7.96l-1.37-1.37c-.4-.4-.92-.59-1.43-.59-.52 0-1.04.2-1.43.59L10.3 9.45l-7.72 7.72c-.78.78-.78 2.05 0 2.83L4 21.41c.39.39.9.59 1.41.59.51 0 1.02-.2 1.41-.59l7.78-7.78 2.81-2.81c.8-.78.8-2.07 0-2.86zM5.41 20L4 18.59l7.72-7.72 1.47 1.35L5.41 20z\"/>\n",
              "  </svg>\n",
              "      </button>\n",
              "      \n",
              "  <style>\n",
              "    .colab-df-container {\n",
              "      display:flex;\n",
              "      flex-wrap:wrap;\n",
              "      gap: 12px;\n",
              "    }\n",
              "\n",
              "    .colab-df-convert {\n",
              "      background-color: #E8F0FE;\n",
              "      border: none;\n",
              "      border-radius: 50%;\n",
              "      cursor: pointer;\n",
              "      display: none;\n",
              "      fill: #1967D2;\n",
              "      height: 32px;\n",
              "      padding: 0 0 0 0;\n",
              "      width: 32px;\n",
              "    }\n",
              "\n",
              "    .colab-df-convert:hover {\n",
              "      background-color: #E2EBFA;\n",
              "      box-shadow: 0px 1px 2px rgba(60, 64, 67, 0.3), 0px 1px 3px 1px rgba(60, 64, 67, 0.15);\n",
              "      fill: #174EA6;\n",
              "    }\n",
              "\n",
              "    [theme=dark] .colab-df-convert {\n",
              "      background-color: #3B4455;\n",
              "      fill: #D2E3FC;\n",
              "    }\n",
              "\n",
              "    [theme=dark] .colab-df-convert:hover {\n",
              "      background-color: #434B5C;\n",
              "      box-shadow: 0px 1px 3px 1px rgba(0, 0, 0, 0.15);\n",
              "      filter: drop-shadow(0px 1px 2px rgba(0, 0, 0, 0.3));\n",
              "      fill: #FFFFFF;\n",
              "    }\n",
              "  </style>\n",
              "\n",
              "      <script>\n",
              "        const buttonEl =\n",
              "          document.querySelector('#df-853fd20a-97d6-45ac-99a8-e7bebff1c981 button.colab-df-convert');\n",
              "        buttonEl.style.display =\n",
              "          google.colab.kernel.accessAllowed ? 'block' : 'none';\n",
              "\n",
              "        async function convertToInteractive(key) {\n",
              "          const element = document.querySelector('#df-853fd20a-97d6-45ac-99a8-e7bebff1c981');\n",
              "          const dataTable =\n",
              "            await google.colab.kernel.invokeFunction('convertToInteractive',\n",
              "                                                     [key], {});\n",
              "          if (!dataTable) return;\n",
              "\n",
              "          const docLinkHtml = 'Like what you see? Visit the ' +\n",
              "            '<a target=\"_blank\" href=https://colab.research.google.com/notebooks/data_table.ipynb>data table notebook</a>'\n",
              "            + ' to learn more about interactive tables.';\n",
              "          element.innerHTML = '';\n",
              "          dataTable['output_type'] = 'display_data';\n",
              "          await google.colab.output.renderOutput(dataTable, element);\n",
              "          const docLink = document.createElement('div');\n",
              "          docLink.innerHTML = docLinkHtml;\n",
              "          element.appendChild(docLink);\n",
              "        }\n",
              "      </script>\n",
              "    </div>\n",
              "  </div>\n",
              "  "
            ]
          },
          "metadata": {},
          "execution_count": 47
        }
      ]
    },
    {
      "cell_type": "code",
      "source": [
        "df_monetary['segment_monetary'].value_counts()"
      ],
      "metadata": {
        "id": "z-4ft9vkKkzl",
        "colab": {
          "base_uri": "https://localhost:8080/"
        },
        "outputId": "683dce34-9241-4ae3-a910-cd8c257c18c9"
      },
      "execution_count": null,
      "outputs": [
        {
          "output_type": "execute_result",
          "data": {
            "text/plain": [
              "1    10908\n",
              "5     4005\n",
              "3     1261\n",
              "2      669\n",
              "4      242\n",
              "Name: segment_monetary, dtype: int64"
            ]
          },
          "metadata": {},
          "execution_count": 48
        }
      ]
    },
    {
      "cell_type": "markdown",
      "source": [
        "**Keterangan :**\n",
        "\n",
        "1 : Jika rata-rata GMV per bulan < Rp 5 Mio\n",
        "\n",
        "2 : Jika rata-rata GMV per bulan Rp 5 Mio - 10 Mio\n",
        "\n",
        "3 : Jika rata-rata GMV per bulan Rp 10 Mio - 50 Mio\n",
        "\n",
        "4 : Jika rata-rata GMV per bulan Rp 50 Mio - 100 Mio\n",
        "\n",
        "5 : Jika rata-rata GMV per bulan > Rp 100 Mio\n",
        "\n",
        "\n",
        "**Berdasarkan nilai frequency-nya. Terdapat 5 segmen yaitu:**\n",
        "\n",
        "1 : Terdapat 10908 customer dengan rata-rata GMV per bulan < Rp 5 Mio\n",
        "\n",
        "2 : Terdapat 669 customer dengan rata-rata GMV per bulan Rp 5 Mio - 10 Mio\n",
        "\n",
        "3 : Terdapat 1261 customer dengan rata-rata GMV per bulan Rp 10 Mio - 50 Mio\n",
        "\n",
        "4 : Terdapat 242 customer dengan rata-rata GMV per bulan Rp 50 Mio - 100 Mio\n",
        "\n",
        "5 : Terdapat 4005 customer dengan rata-rata GMV per bulan > Rp 100 Mio\n",
        "\n",
        "\n",
        "*Maka bisa disimpulkan bahwa mayoritas customer Ralali berada pada segmen 1, yang artinya customer memiliki rata-rata GMV per bulan < Rp 5 Mio*"
      ],
      "metadata": {
        "id": "SvwmTdOiKgdZ"
      }
    },
    {
      "cell_type": "markdown",
      "source": [
        "## RFM Segmentation"
      ],
      "metadata": {
        "id": "nBUNflxngort"
      }
    },
    {
      "cell_type": "code",
      "source": [
        "df_rfm = pd.merge(df_recency, df_frequency, on='user_id').merge(df_monetary, on='user_id')"
      ],
      "metadata": {
        "id": "z-lyVvqWYqQQ"
      },
      "execution_count": null,
      "outputs": []
    },
    {
      "cell_type": "code",
      "source": [
        "df_rfm['RFMClass'] =df_rfm['segment_recency'].map(str)+ df_rfm['segment_frequency'].map(str) + df_rfm['segment_monetary'].map(str)\n",
        "df_rfm"
      ],
      "metadata": {
        "colab": {
          "base_uri": "https://localhost:8080/",
          "height": 424
        },
        "id": "-Ri9AVnoZ9vM",
        "outputId": "1de3c2b5-f650-469a-d323-fed2e246975f"
      },
      "execution_count": null,
      "outputs": [
        {
          "output_type": "execute_result",
          "data": {
            "text/plain": [
              "                                            user_id            order_datetime  \\\n",
              "0      LXBLFS0B5ILfeZqBcUsTxmbtHTxf+pm7baWVZRZ6UX8= 2022-07-01 16:16:10+00:00   \n",
              "1      HrwFzsZ1zuM353NMdWwSgubbaWfLNVZOZo4cH5D04DM= 2022-07-01 16:13:23+00:00   \n",
              "2      hkl1h0J7bi8/dtcyVjOhfJ9nbuYaC5jUawvuUP4/JYI= 2022-07-01 16:05:52+00:00   \n",
              "3      FfvnOIwxOQL3hPbWpxRL4vb6sTrtmHituZPS6i8iiOU= 2022-07-01 15:34:19+00:00   \n",
              "4      rkOLa0IqQqu2sVDFWLPoElI7YRJKpfxXUzyx1IniVig= 2022-07-01 14:47:28+00:00   \n",
              "...                                             ...                       ...   \n",
              "17080  p8ZEgNWPMJVSlpNEfk9PeuywEY1crmrFG6jFX7ZzlGM= 2018-07-04 12:37:16+00:00   \n",
              "17081  fB0eyx/gHulN+qBFe4yfrwR7pqr59vrrnIkmzt/zfLo= 2018-07-04 10:35:46+00:00   \n",
              "17082  mTsSwUc5yEHZQ2aACUQviHROo5GHDtpWF1qpsrTlSLE= 2018-07-04 10:18:34+00:00   \n",
              "17083  Xm/v7Jcf2J+zs4NR5nty4N+rFIe43QhS4DYoeTcVQ3I= 2018-07-04 10:09:06+00:00   \n",
              "17084  iqWxlOj2GNroNwhAC5zV1Q8lQVqsfALjNtNjFNBPdA4= 2018-07-01 17:54:21+00:00   \n",
              "\n",
              "      segment_recency  total_order segment_frequency  AVG_monthly_gmv  \\\n",
              "0                   5           90                 5     5.051907e+13   \n",
              "1                   5          109                 5     3.734339e+13   \n",
              "2                   5          113                 5     9.380647e+15   \n",
              "3                   5          111                 5     2.596862e+16   \n",
              "4                   5          111                 5     1.391206e+15   \n",
              "...               ...          ...               ...              ...   \n",
              "17080               1            1                 1     1.025000e+05   \n",
              "17081               1            1                 1     2.000000e+07   \n",
              "17082               1            1                 1     1.990000e+07   \n",
              "17083               1            1                 1     1.990000e+12   \n",
              "17084               1            1                 1     8.640000e+04   \n",
              "\n",
              "      segment_monetary RFMClass  \n",
              "0                    5      555  \n",
              "1                    5      555  \n",
              "2                    5      555  \n",
              "3                    5      555  \n",
              "4                    5      555  \n",
              "...                ...      ...  \n",
              "17080                1      111  \n",
              "17081                3      113  \n",
              "17082                3      113  \n",
              "17083                5      115  \n",
              "17084                1      111  \n",
              "\n",
              "[17085 rows x 8 columns]"
            ],
            "text/html": [
              "\n",
              "  <div id=\"df-0b09ad4d-c5de-463d-8cbd-7fcf3a99d487\">\n",
              "    <div class=\"colab-df-container\">\n",
              "      <div>\n",
              "<style scoped>\n",
              "    .dataframe tbody tr th:only-of-type {\n",
              "        vertical-align: middle;\n",
              "    }\n",
              "\n",
              "    .dataframe tbody tr th {\n",
              "        vertical-align: top;\n",
              "    }\n",
              "\n",
              "    .dataframe thead th {\n",
              "        text-align: right;\n",
              "    }\n",
              "</style>\n",
              "<table border=\"1\" class=\"dataframe\">\n",
              "  <thead>\n",
              "    <tr style=\"text-align: right;\">\n",
              "      <th></th>\n",
              "      <th>user_id</th>\n",
              "      <th>order_datetime</th>\n",
              "      <th>segment_recency</th>\n",
              "      <th>total_order</th>\n",
              "      <th>segment_frequency</th>\n",
              "      <th>AVG_monthly_gmv</th>\n",
              "      <th>segment_monetary</th>\n",
              "      <th>RFMClass</th>\n",
              "    </tr>\n",
              "  </thead>\n",
              "  <tbody>\n",
              "    <tr>\n",
              "      <th>0</th>\n",
              "      <td>LXBLFS0B5ILfeZqBcUsTxmbtHTxf+pm7baWVZRZ6UX8=</td>\n",
              "      <td>2022-07-01 16:16:10+00:00</td>\n",
              "      <td>5</td>\n",
              "      <td>90</td>\n",
              "      <td>5</td>\n",
              "      <td>5.051907e+13</td>\n",
              "      <td>5</td>\n",
              "      <td>555</td>\n",
              "    </tr>\n",
              "    <tr>\n",
              "      <th>1</th>\n",
              "      <td>HrwFzsZ1zuM353NMdWwSgubbaWfLNVZOZo4cH5D04DM=</td>\n",
              "      <td>2022-07-01 16:13:23+00:00</td>\n",
              "      <td>5</td>\n",
              "      <td>109</td>\n",
              "      <td>5</td>\n",
              "      <td>3.734339e+13</td>\n",
              "      <td>5</td>\n",
              "      <td>555</td>\n",
              "    </tr>\n",
              "    <tr>\n",
              "      <th>2</th>\n",
              "      <td>hkl1h0J7bi8/dtcyVjOhfJ9nbuYaC5jUawvuUP4/JYI=</td>\n",
              "      <td>2022-07-01 16:05:52+00:00</td>\n",
              "      <td>5</td>\n",
              "      <td>113</td>\n",
              "      <td>5</td>\n",
              "      <td>9.380647e+15</td>\n",
              "      <td>5</td>\n",
              "      <td>555</td>\n",
              "    </tr>\n",
              "    <tr>\n",
              "      <th>3</th>\n",
              "      <td>FfvnOIwxOQL3hPbWpxRL4vb6sTrtmHituZPS6i8iiOU=</td>\n",
              "      <td>2022-07-01 15:34:19+00:00</td>\n",
              "      <td>5</td>\n",
              "      <td>111</td>\n",
              "      <td>5</td>\n",
              "      <td>2.596862e+16</td>\n",
              "      <td>5</td>\n",
              "      <td>555</td>\n",
              "    </tr>\n",
              "    <tr>\n",
              "      <th>4</th>\n",
              "      <td>rkOLa0IqQqu2sVDFWLPoElI7YRJKpfxXUzyx1IniVig=</td>\n",
              "      <td>2022-07-01 14:47:28+00:00</td>\n",
              "      <td>5</td>\n",
              "      <td>111</td>\n",
              "      <td>5</td>\n",
              "      <td>1.391206e+15</td>\n",
              "      <td>5</td>\n",
              "      <td>555</td>\n",
              "    </tr>\n",
              "    <tr>\n",
              "      <th>...</th>\n",
              "      <td>...</td>\n",
              "      <td>...</td>\n",
              "      <td>...</td>\n",
              "      <td>...</td>\n",
              "      <td>...</td>\n",
              "      <td>...</td>\n",
              "      <td>...</td>\n",
              "      <td>...</td>\n",
              "    </tr>\n",
              "    <tr>\n",
              "      <th>17080</th>\n",
              "      <td>p8ZEgNWPMJVSlpNEfk9PeuywEY1crmrFG6jFX7ZzlGM=</td>\n",
              "      <td>2018-07-04 12:37:16+00:00</td>\n",
              "      <td>1</td>\n",
              "      <td>1</td>\n",
              "      <td>1</td>\n",
              "      <td>1.025000e+05</td>\n",
              "      <td>1</td>\n",
              "      <td>111</td>\n",
              "    </tr>\n",
              "    <tr>\n",
              "      <th>17081</th>\n",
              "      <td>fB0eyx/gHulN+qBFe4yfrwR7pqr59vrrnIkmzt/zfLo=</td>\n",
              "      <td>2018-07-04 10:35:46+00:00</td>\n",
              "      <td>1</td>\n",
              "      <td>1</td>\n",
              "      <td>1</td>\n",
              "      <td>2.000000e+07</td>\n",
              "      <td>3</td>\n",
              "      <td>113</td>\n",
              "    </tr>\n",
              "    <tr>\n",
              "      <th>17082</th>\n",
              "      <td>mTsSwUc5yEHZQ2aACUQviHROo5GHDtpWF1qpsrTlSLE=</td>\n",
              "      <td>2018-07-04 10:18:34+00:00</td>\n",
              "      <td>1</td>\n",
              "      <td>1</td>\n",
              "      <td>1</td>\n",
              "      <td>1.990000e+07</td>\n",
              "      <td>3</td>\n",
              "      <td>113</td>\n",
              "    </tr>\n",
              "    <tr>\n",
              "      <th>17083</th>\n",
              "      <td>Xm/v7Jcf2J+zs4NR5nty4N+rFIe43QhS4DYoeTcVQ3I=</td>\n",
              "      <td>2018-07-04 10:09:06+00:00</td>\n",
              "      <td>1</td>\n",
              "      <td>1</td>\n",
              "      <td>1</td>\n",
              "      <td>1.990000e+12</td>\n",
              "      <td>5</td>\n",
              "      <td>115</td>\n",
              "    </tr>\n",
              "    <tr>\n",
              "      <th>17084</th>\n",
              "      <td>iqWxlOj2GNroNwhAC5zV1Q8lQVqsfALjNtNjFNBPdA4=</td>\n",
              "      <td>2018-07-01 17:54:21+00:00</td>\n",
              "      <td>1</td>\n",
              "      <td>1</td>\n",
              "      <td>1</td>\n",
              "      <td>8.640000e+04</td>\n",
              "      <td>1</td>\n",
              "      <td>111</td>\n",
              "    </tr>\n",
              "  </tbody>\n",
              "</table>\n",
              "<p>17085 rows × 8 columns</p>\n",
              "</div>\n",
              "      <button class=\"colab-df-convert\" onclick=\"convertToInteractive('df-0b09ad4d-c5de-463d-8cbd-7fcf3a99d487')\"\n",
              "              title=\"Convert this dataframe to an interactive table.\"\n",
              "              style=\"display:none;\">\n",
              "        \n",
              "  <svg xmlns=\"http://www.w3.org/2000/svg\" height=\"24px\"viewBox=\"0 0 24 24\"\n",
              "       width=\"24px\">\n",
              "    <path d=\"M0 0h24v24H0V0z\" fill=\"none\"/>\n",
              "    <path d=\"M18.56 5.44l.94 2.06.94-2.06 2.06-.94-2.06-.94-.94-2.06-.94 2.06-2.06.94zm-11 1L8.5 8.5l.94-2.06 2.06-.94-2.06-.94L8.5 2.5l-.94 2.06-2.06.94zm10 10l.94 2.06.94-2.06 2.06-.94-2.06-.94-.94-2.06-.94 2.06-2.06.94z\"/><path d=\"M17.41 7.96l-1.37-1.37c-.4-.4-.92-.59-1.43-.59-.52 0-1.04.2-1.43.59L10.3 9.45l-7.72 7.72c-.78.78-.78 2.05 0 2.83L4 21.41c.39.39.9.59 1.41.59.51 0 1.02-.2 1.41-.59l7.78-7.78 2.81-2.81c.8-.78.8-2.07 0-2.86zM5.41 20L4 18.59l7.72-7.72 1.47 1.35L5.41 20z\"/>\n",
              "  </svg>\n",
              "      </button>\n",
              "      \n",
              "  <style>\n",
              "    .colab-df-container {\n",
              "      display:flex;\n",
              "      flex-wrap:wrap;\n",
              "      gap: 12px;\n",
              "    }\n",
              "\n",
              "    .colab-df-convert {\n",
              "      background-color: #E8F0FE;\n",
              "      border: none;\n",
              "      border-radius: 50%;\n",
              "      cursor: pointer;\n",
              "      display: none;\n",
              "      fill: #1967D2;\n",
              "      height: 32px;\n",
              "      padding: 0 0 0 0;\n",
              "      width: 32px;\n",
              "    }\n",
              "\n",
              "    .colab-df-convert:hover {\n",
              "      background-color: #E2EBFA;\n",
              "      box-shadow: 0px 1px 2px rgba(60, 64, 67, 0.3), 0px 1px 3px 1px rgba(60, 64, 67, 0.15);\n",
              "      fill: #174EA6;\n",
              "    }\n",
              "\n",
              "    [theme=dark] .colab-df-convert {\n",
              "      background-color: #3B4455;\n",
              "      fill: #D2E3FC;\n",
              "    }\n",
              "\n",
              "    [theme=dark] .colab-df-convert:hover {\n",
              "      background-color: #434B5C;\n",
              "      box-shadow: 0px 1px 3px 1px rgba(0, 0, 0, 0.15);\n",
              "      filter: drop-shadow(0px 1px 2px rgba(0, 0, 0, 0.3));\n",
              "      fill: #FFFFFF;\n",
              "    }\n",
              "  </style>\n",
              "\n",
              "      <script>\n",
              "        const buttonEl =\n",
              "          document.querySelector('#df-0b09ad4d-c5de-463d-8cbd-7fcf3a99d487 button.colab-df-convert');\n",
              "        buttonEl.style.display =\n",
              "          google.colab.kernel.accessAllowed ? 'block' : 'none';\n",
              "\n",
              "        async function convertToInteractive(key) {\n",
              "          const element = document.querySelector('#df-0b09ad4d-c5de-463d-8cbd-7fcf3a99d487');\n",
              "          const dataTable =\n",
              "            await google.colab.kernel.invokeFunction('convertToInteractive',\n",
              "                                                     [key], {});\n",
              "          if (!dataTable) return;\n",
              "\n",
              "          const docLinkHtml = 'Like what you see? Visit the ' +\n",
              "            '<a target=\"_blank\" href=https://colab.research.google.com/notebooks/data_table.ipynb>data table notebook</a>'\n",
              "            + ' to learn more about interactive tables.';\n",
              "          element.innerHTML = '';\n",
              "          dataTable['output_type'] = 'display_data';\n",
              "          await google.colab.output.renderOutput(dataTable, element);\n",
              "          const docLink = document.createElement('div');\n",
              "          docLink.innerHTML = docLinkHtml;\n",
              "          element.appendChild(docLink);\n",
              "        }\n",
              "      </script>\n",
              "    </div>\n",
              "  </div>\n",
              "  "
            ]
          },
          "metadata": {},
          "execution_count": 50
        }
      ]
    },
    {
      "cell_type": "code",
      "source": [
        "# Visualization for Recency, Freuency, Monetary score distribution\n",
        "plt.figure(figsize=(25, 7))\n",
        "\n",
        "plt.subplot(131)\n",
        "sns.countplot(x='segment_recency', data=df_rfm, palette='Spectral')\n",
        "plt.title('Distribution of Recency',fontsize=20)\n",
        "plt.xlabel('Recency Score',fontsize=14)\n",
        "plt.ylabel('Number of Customers',fontsize=14)\n",
        "plt.yticks(fontsize=12)\n",
        "\n",
        "plt.subplot(132)\n",
        "sns.countplot(x='segment_frequency', data=df_rfm, palette='Spectral')\n",
        "plt.title('Distribution of Frequency',fontsize=20)\n",
        "plt.xlabel('Freuency Score',fontsize=14)\n",
        "plt.ylabel('Number of Customers',fontsize=14)\n",
        "plt.yticks(fontsize=12)\n",
        "\n",
        "plt.subplot(133)\n",
        "sns.countplot(x='segment_monetary', data=df_rfm, palette='Spectral')\n",
        "plt.title('Distribution of Monetary',fontsize=20)\n",
        "plt.xlabel('Monetary Score',fontsize=14)\n",
        "plt.ylabel('Number of Customers',fontsize=14)\n",
        "plt.yticks(fontsize=12)\n",
        "\n",
        "plt.tight_layout()\n",
        "plt.show()"
      ],
      "metadata": {
        "id": "0FMPqTdH1PtR",
        "colab": {
          "base_uri": "https://localhost:8080/",
          "height": 404
        },
        "outputId": "c97c206c-5402-45ca-8ead-a2093b0450ae"
      },
      "execution_count": null,
      "outputs": [
        {
          "output_type": "display_data",
          "data": {
            "text/plain": [
              "<Figure size 2500x700 with 3 Axes>"
            ],
            "image/png": "[encoded data removed]"
          },
          "metadata": {}
        }
      ]
    },
    {
      "cell_type": "code",
      "source": [
        "# RFM Segmentation\n",
        "def segmentation(x):\n",
        "    if re.search('55.', x) or re.search('54.', x):\n",
        "        return 'Champions'\n",
        "    elif re.search('53.', x) or re.search('52.', x) or re.search('43.', x) or re.search('42.', x):\n",
        "        return 'potensial loyalist'\n",
        "    elif re.search('51.', x):\n",
        "        return 'new costomers'\n",
        "    elif re.search('45.', x) or re.search('44.', x) or re.search('35.', x) or re.search('34.', x):\n",
        "        return 'Loyal costomers'\n",
        "    elif re.search('41.', x):\n",
        "        return 'promising'\n",
        "    elif re.search('33.', x):\n",
        "        return 'need attention'\n",
        "    elif re.search('32.', x) or re.search('31.', x):\n",
        "        return 'about to sleep'\n",
        "    elif re.search('25.', x) or re.search('15.', x):\n",
        "        return \"can't loose them\"\n",
        "    elif re.search('24.', x) or re.search('23.', x) or re.search('14.', x) or re.search('13.', x):\n",
        "        return 'at risk'\n",
        "    elif re.search('22.', x) or re.search('21.', x) or re.search('12.', x) or re.search('11.', x):\n",
        "        return 'hibernating'\n",
        "\n",
        "\n",
        "df_rfm['RFM Segment'] = df_rfm['RFMClass'].apply(segmentation)\n",
        "df_rfm['RFM Segment'].value_counts()"
      ],
      "metadata": {
        "id": "l-sw2Ahk1Q1w",
        "colab": {
          "base_uri": "https://localhost:8080/"
        },
        "outputId": "fe7369ab-a7b9-4161-9008-ddd1afbedeca"
      },
      "execution_count": null,
      "outputs": [
        {
          "output_type": "execute_result",
          "data": {
            "text/plain": [
              "hibernating           9179\n",
              "about to sleep        3202\n",
              "promising             2625\n",
              "new costomers         1539\n",
              "potensial loyalist     353\n",
              "Champions               38\n",
              "Loyal costomers         26\n",
              "need attention          12\n",
              "at risk                 12\n",
              "can't loose them         1\n",
              "Name: RFM Segment, dtype: int64"
            ]
          },
          "metadata": {},
          "execution_count": 52
        }
      ]
    },
    {
      "cell_type": "code",
      "source": [
        "# Customer Segmentation Percentage\n",
        "round(df_rfm['RFM Segment'].value_counts(normalize=True)*100, 2)"
      ],
      "metadata": {
        "id": "QrvqIj-V1V-I",
        "colab": {
          "base_uri": "https://localhost:8080/"
        },
        "outputId": "cac6a90e-167d-4794-da92-9b8ab7614684"
      },
      "execution_count": null,
      "outputs": [
        {
          "output_type": "execute_result",
          "data": {
            "text/plain": [
              "hibernating           54.04\n",
              "about to sleep        18.85\n",
              "promising             15.45\n",
              "new costomers          9.06\n",
              "potensial loyalist     2.08\n",
              "Champions              0.22\n",
              "Loyal costomers        0.15\n",
              "need attention         0.07\n",
              "at risk                0.07\n",
              "can't loose them       0.01\n",
              "Name: RFM Segment, dtype: float64"
            ]
          },
          "metadata": {},
          "execution_count": 53
        }
      ]
    },
    {
      "cell_type": "code",
      "source": [
        "plt.figure(figsize=(25,6))\n",
        "sns.countplot(x='RFM Segment', data=df_rfm)"
      ],
      "metadata": {
        "id": "q0PXC-cJ1XAc",
        "colab": {
          "base_uri": "https://localhost:8080/",
          "height": 397
        },
        "outputId": "50786169-78e5-46ed-ddaa-7c82b4668448"
      },
      "execution_count": null,
      "outputs": [
        {
          "output_type": "execute_result",
          "data": {
            "text/plain": [
              "<Axes: xlabel='RFM Segment', ylabel='count'>"
            ]
          },
          "metadata": {},
          "execution_count": 54
        },
        {
          "output_type": "display_data",
          "data": {
            "text/plain": [
              "<Figure size 2500x600 with 1 Axes>"
            ],
            "image/png": "[encoded data removed]"
          },
          "metadata": {}
        }
      ]
    },
    {
      "cell_type": "markdown",
      "source": [
        "Keterangan:\n",
        "\n",
        "1. Champhions\n",
        "\n",
        "Segmen ini terdiri dari 38 customers.\n",
        "Customers dapat dikatakan Champhions jika terakhir melakukan transaksi pada tahun 2022(recency = 5) dan frekuensi melakukan transaksi lebih dari 24 kali (frekuensi = 4 atau 5).\n",
        "Pada segmen ini customers paling banyak membeli kategori 3C & Others sebanyak 20 customers.\n",
        "\n",
        "2. Potential loyalist\n",
        "\n",
        "Segmen ini terdiri dari 353 customers.\n",
        "Customers dapat dikatakan potential loyalist jika terakhir melakukan transaksi pada tahun 2022 atau 2019 (recency = 4 atau 5) dan frekuensi melakukan transaksi antara 7-24  kali (frekuensi = 2 atau 3).\n",
        "Pada segmen ini customers paling banyak membeli kategori 3C & Others sebanyak 284 customers.\n",
        "\n",
        "3. New Customers\n",
        "\n",
        "Segmen ini terdiri dari 1539 customers.\n",
        "Customers dapat dikatakan new costomers jika terakhir melakukan transaksi pada tahun 2022 (recency = 5) dan frekuensi melakukan transaksi antara kurang dari 7 kali (frekuensi = 1).\n",
        "Pada segmen ini customers paling banyak membeli kategori 3C & Others sebanyak 948 customers.\n",
        "\n",
        "4. Loyal Costomers\n",
        "\n",
        "Segmen ini terdiri dari 26 customers.\n",
        "Customers dapat dikatakan loyal costomers jika terakhir melakukan transaksi pada tahun 2020 atau 2021 (recency = 3 atau 4) dan frekuensi melakukan transaksi antara lebih dari 24 kali (frekuensi = 4 atau 5).\n",
        "Pada segmen ini customers paling banyak membeli kategori 3C & Others sebanyak 15 customers.\n",
        "\n",
        "5. Promising\n",
        "\n",
        "Segmen ini terdiri dari 2625 customers.\n",
        "Customers dapat dikatakan promising jika terakhir melakukan transaksi pada tahun 2021 (recency = 4) dan frekuensi melakukan transaksi antara kurang dari 27 kali (frekuensi = 1).\n",
        "Pada segmen ini customers paling banyak membeli kategori 3C & Others sebanyak 1424 customers.\n",
        "\n",
        "6. Need Attention\n",
        "\n",
        "Segmen ini terdiri dari 12 customers\n",
        "Customers dapat dikatakan need attention jika terakhir melakukan transaksi pada tahun 2020 (recency = 3) dan frekuensi melakukan transaksi antara 13-24 kali (frekuensi = 3).\n",
        "Pada segmen ini customers paling banyak membeli kategori 3C & Others sebanyak 5 customers.\n",
        "\n",
        "7. About to Sleep\n",
        "\n",
        "Segmen ini terdiri dari 3202 customers\n",
        "Customers dapat dikatakan About to Sleep jika terakhir melakukan transaksi pada tahun 2020 (recency = 3) dan frekuensi melakukan transaksi kurang dari 13 kali (frekuensi = 1 atau 2).\n",
        "Pada segmen ini customers paling banyak membeli kategori 3C & Others sebanyak 1590 customers.\n",
        "\n",
        "8. Can't Loose Them\n",
        "\n",
        "Segmen ini terdiri dari 1 customers dari kategori F&B\n",
        "Customers dapat dikatakan can't loose them jika terakhir melakukan transaksi pada tahun 2019 dan sebelumnya (recency = 1 & 2) dan frekuensi melakukan transaksi lebih dari 36 kali (frekuensi = 5).\n",
        "\n",
        "9. At Risk\n",
        "\n",
        "Segmen ini terdiri dari 12 customers\n",
        "Customers dapat dikatakan at risk jika terakhir melakukan transaksi pada tahun 2019 dan sebelumnya (recency = 1 & 2) dan frekuensi melakukan transaksi antara 13-36 kali (frekuensi = 3 atau 4).\n",
        "Pada segmen ini customers paling banyak membeli kategori 3C & Others sebanyak 6 customers.\n",
        "\n",
        "10. Hibernating\n",
        "\n",
        "Segmen ini terdiri dari 9179 customers\n",
        "Customers dapat dikatakan hibernating jika terakhir melakukan transaksi pada tahun 2019 dan sebelumnya (recency = 1 & 2) dan frekuensi melakukan transaksi kurang dari 13 kali (frekuensi = 1 atau 2).\n",
        "Pada segmen ini customers paling banyak membeli kategori F&B sebanyak 5719 customers."
      ],
      "metadata": {
        "id": "l5vW3JMox0Mq"
      }
    }
  ],
  "metadata": {
    "colab": {
      "provenance": [],
      "collapsed_sections": [
        "nAtyfuc9CXU-",
        "lnJaAGVhSZIF",
        "Wi8HaTsqV3OK",
        "Z03_4MgQqc0C"
      ]
    },
    "kernelspec": {
      "display_name": "Python 3",
      "name": "python3"
    },
    "language_info": {
      "name": "python"
    }
  },
  "nbformat": 4,
  "nbformat_minor": 0
}